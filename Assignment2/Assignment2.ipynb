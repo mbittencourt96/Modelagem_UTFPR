{
 "cells": [
  {
   "cell_type": "markdown",
   "id": "5aac6ae5",
   "metadata": {},
   "source": [
    "### Assignment 2 - Introdução à Modelagem e Aprendizado UTFPR"
   ]
  },
  {
   "cell_type": "markdown",
   "id": "e2a82005",
   "metadata": {},
   "source": [
    "#### Alunos: Mariana Bittencourt e Thiago Lemos"
   ]
  },
  {
   "cell_type": "code",
   "execution_count": 4,
   "id": "d34dcf1f",
   "metadata": {},
   "outputs": [],
   "source": [
    "import pandas as pd\n",
    "import glob\n",
    "import os"
   ]
  },
  {
   "cell_type": "markdown",
   "id": "8da4ed5a",
   "metadata": {},
   "source": [
    "### 1) Primeiro passo: Abrir, concatenar e analisar os datasets de treino e teste para situações de atividades cotidianas (ADL)"
   ]
  },
  {
   "cell_type": "code",
   "execution_count": 12,
   "id": "4a14c925",
   "metadata": {},
   "outputs": [],
   "source": [
    "path = r'C:\\Users\\menin\\Local Documents\\ML\\Modelagem_UTFPR\\Assignment2\\ADL\\Train' \n",
    "path_test = r'C:\\Users\\menin\\Local Documents\\ML\\Modelagem_UTFPR\\Assignment2\\ADL\\Test' \n",
    "\n",
    "all_files_train = glob.glob(os.path.join(path, \"*.csv\"))\n",
    "all_files_test = glob.glob(os.path.join(path_test, \"*.csv\"))\n",
    "li = []\n",
    "li_test = []\n",
    "\n",
    "for filename in all_files_train:\n",
    "    df = pd.read_csv(filename, index_col=None, header=None)\n",
    "    li.append(df)\n",
    "\n",
    "for filename in all_files_test:\n",
    "    df = pd.read_csv(filename, index_col=None, header=None)\n",
    "    li_test.append(df)\n",
    "    \n",
    "df_train_adl = pd.concat(li, axis=0, ignore_index=True)\n",
    "df_test_adl = pd.concat(li_test, axis=0, ignore_index=True)"
   ]
  },
  {
   "cell_type": "code",
   "execution_count": 13,
   "id": "a4e185f3",
   "metadata": {},
   "outputs": [
    {
     "data": {
      "text/html": [
       "<div>\n",
       "<style scoped>\n",
       "    .dataframe tbody tr th:only-of-type {\n",
       "        vertical-align: middle;\n",
       "    }\n",
       "\n",
       "    .dataframe tbody tr th {\n",
       "        vertical-align: top;\n",
       "    }\n",
       "\n",
       "    .dataframe thead th {\n",
       "        text-align: right;\n",
       "    }\n",
       "</style>\n",
       "<table border=\"1\" class=\"dataframe\">\n",
       "  <thead>\n",
       "    <tr style=\"text-align: right;\">\n",
       "      <th></th>\n",
       "      <th>0</th>\n",
       "      <th>1</th>\n",
       "      <th>2</th>\n",
       "      <th>3</th>\n",
       "      <th>4</th>\n",
       "    </tr>\n",
       "  </thead>\n",
       "  <tbody>\n",
       "    <tr>\n",
       "      <th>0</th>\n",
       "      <td>0</td>\n",
       "      <td>1.160735</td>\n",
       "      <td>-0.048638</td>\n",
       "      <td>1.149866</td>\n",
       "      <td>-0.150826</td>\n",
       "    </tr>\n",
       "    <tr>\n",
       "      <th>1</th>\n",
       "      <td>31</td>\n",
       "      <td>1.232825</td>\n",
       "      <td>-0.066079</td>\n",
       "      <td>1.221349</td>\n",
       "      <td>-0.154265</td>\n",
       "    </tr>\n",
       "    <tr>\n",
       "      <th>2</th>\n",
       "      <td>46</td>\n",
       "      <td>1.271040</td>\n",
       "      <td>-0.081063</td>\n",
       "      <td>1.259424</td>\n",
       "      <td>-0.151072</td>\n",
       "    </tr>\n",
       "    <tr>\n",
       "      <th>3</th>\n",
       "      <td>62</td>\n",
       "      <td>1.334946</td>\n",
       "      <td>-0.103908</td>\n",
       "      <td>1.315677</td>\n",
       "      <td>-0.200692</td>\n",
       "    </tr>\n",
       "    <tr>\n",
       "      <th>4</th>\n",
       "      <td>93</td>\n",
       "      <td>1.343159</td>\n",
       "      <td>-0.072465</td>\n",
       "      <td>1.311010</td>\n",
       "      <td>-0.282984</td>\n",
       "    </tr>\n",
       "  </tbody>\n",
       "</table>\n",
       "</div>"
      ],
      "text/plain": [
       "    0         1         2         3         4\n",
       "0   0  1.160735 -0.048638  1.149866 -0.150826\n",
       "1  31  1.232825 -0.066079  1.221349 -0.154265\n",
       "2  46  1.271040 -0.081063  1.259424 -0.151072\n",
       "3  62  1.334946 -0.103908  1.315677 -0.200692\n",
       "4  93  1.343159 -0.072465  1.311010 -0.282984"
      ]
     },
     "execution_count": 13,
     "metadata": {},
     "output_type": "execute_result"
    }
   ],
   "source": [
    "df_train_adl.head()"
   ]
  },
  {
   "cell_type": "code",
   "execution_count": 19,
   "id": "68cab72c",
   "metadata": {},
   "outputs": [
    {
     "data": {
      "text/html": [
       "<div>\n",
       "<style scoped>\n",
       "    .dataframe tbody tr th:only-of-type {\n",
       "        vertical-align: middle;\n",
       "    }\n",
       "\n",
       "    .dataframe tbody tr th {\n",
       "        vertical-align: top;\n",
       "    }\n",
       "\n",
       "    .dataframe thead th {\n",
       "        text-align: right;\n",
       "    }\n",
       "</style>\n",
       "<table border=\"1\" class=\"dataframe\">\n",
       "  <thead>\n",
       "    <tr style=\"text-align: right;\">\n",
       "      <th></th>\n",
       "      <th>0</th>\n",
       "      <th>1</th>\n",
       "      <th>2</th>\n",
       "      <th>3</th>\n",
       "      <th>4</th>\n",
       "    </tr>\n",
       "  </thead>\n",
       "  <tbody>\n",
       "    <tr>\n",
       "      <th>0</th>\n",
       "      <td>-187.0</td>\n",
       "      <td>1.164722</td>\n",
       "      <td>0.508362</td>\n",
       "      <td>0.598458</td>\n",
       "      <td>0.858435</td>\n",
       "    </tr>\n",
       "    <tr>\n",
       "      <th>1</th>\n",
       "      <td>-177.0</td>\n",
       "      <td>0.867221</td>\n",
       "      <td>0.402072</td>\n",
       "      <td>0.451191</td>\n",
       "      <td>0.622602</td>\n",
       "    </tr>\n",
       "    <tr>\n",
       "      <th>2</th>\n",
       "      <td>-153.0</td>\n",
       "      <td>1.190304</td>\n",
       "      <td>0.512278</td>\n",
       "      <td>0.623657</td>\n",
       "      <td>0.872781</td>\n",
       "    </tr>\n",
       "    <tr>\n",
       "      <th>3</th>\n",
       "      <td>-146.0</td>\n",
       "      <td>1.561568</td>\n",
       "      <td>0.633153</td>\n",
       "      <td>0.831689</td>\n",
       "      <td>1.156918</td>\n",
       "    </tr>\n",
       "    <tr>\n",
       "      <th>4</th>\n",
       "      <td>-121.0</td>\n",
       "      <td>0.793837</td>\n",
       "      <td>0.363163</td>\n",
       "      <td>0.418250</td>\n",
       "      <td>0.569564</td>\n",
       "    </tr>\n",
       "  </tbody>\n",
       "</table>\n",
       "</div>"
      ],
      "text/plain": [
       "       0         1         2         3         4\n",
       "0 -187.0  1.164722  0.508362  0.598458  0.858435\n",
       "1 -177.0  0.867221  0.402072  0.451191  0.622602\n",
       "2 -153.0  1.190304  0.512278  0.623657  0.872781\n",
       "3 -146.0  1.561568  0.633153  0.831689  1.156918\n",
       "4 -121.0  0.793837  0.363163  0.418250  0.569564"
      ]
     },
     "execution_count": 19,
     "metadata": {},
     "output_type": "execute_result"
    }
   ],
   "source": [
    "df_test_adl.head()"
   ]
  },
  {
   "cell_type": "markdown",
   "id": "62982dd9",
   "metadata": {},
   "source": [
    "#### Verificando se todos os exemplos foram corretamente concatenados, checando o número de linhas do df concatenado"
   ]
  },
  {
   "cell_type": "code",
   "execution_count": 14,
   "id": "2c150358",
   "metadata": {},
   "outputs": [
    {
     "data": {
      "text/plain": [
       "13524"
      ]
     },
     "execution_count": 14,
     "metadata": {},
     "output_type": "execute_result"
    }
   ],
   "source": [
    "len(df_train_adl)"
   ]
  },
  {
   "cell_type": "code",
   "execution_count": 18,
   "id": "c590edcd",
   "metadata": {},
   "outputs": [
    {
     "data": {
      "text/plain": [
       "3005"
      ]
     },
     "execution_count": 18,
     "metadata": {},
     "output_type": "execute_result"
    }
   ],
   "source": [
    "len(df_test_adl)"
   ]
  },
  {
   "cell_type": "markdown",
   "id": "5c1f105b",
   "metadata": {},
   "source": [
    "#### Renomeando as colunas de acordo com a documentação do problema"
   ]
  },
  {
   "cell_type": "code",
   "execution_count": 16,
   "id": "0f8a339d",
   "metadata": {},
   "outputs": [],
   "source": [
    "df_train_adl.columns = ['ms_since_beginning','sv_total','Ax','Az','Ay']"
   ]
  },
  {
   "cell_type": "code",
   "execution_count": 17,
   "id": "940df3ca",
   "metadata": {},
   "outputs": [
    {
     "data": {
      "text/html": [
       "<div>\n",
       "<style scoped>\n",
       "    .dataframe tbody tr th:only-of-type {\n",
       "        vertical-align: middle;\n",
       "    }\n",
       "\n",
       "    .dataframe tbody tr th {\n",
       "        vertical-align: top;\n",
       "    }\n",
       "\n",
       "    .dataframe thead th {\n",
       "        text-align: right;\n",
       "    }\n",
       "</style>\n",
       "<table border=\"1\" class=\"dataframe\">\n",
       "  <thead>\n",
       "    <tr style=\"text-align: right;\">\n",
       "      <th></th>\n",
       "      <th>ms_since_beginning</th>\n",
       "      <th>sv_total</th>\n",
       "      <th>Ax</th>\n",
       "      <th>Az</th>\n",
       "      <th>Ay</th>\n",
       "    </tr>\n",
       "  </thead>\n",
       "  <tbody>\n",
       "    <tr>\n",
       "      <th>0</th>\n",
       "      <td>0</td>\n",
       "      <td>1.160735</td>\n",
       "      <td>-0.048638</td>\n",
       "      <td>1.149866</td>\n",
       "      <td>-0.150826</td>\n",
       "    </tr>\n",
       "    <tr>\n",
       "      <th>1</th>\n",
       "      <td>31</td>\n",
       "      <td>1.232825</td>\n",
       "      <td>-0.066079</td>\n",
       "      <td>1.221349</td>\n",
       "      <td>-0.154265</td>\n",
       "    </tr>\n",
       "    <tr>\n",
       "      <th>2</th>\n",
       "      <td>46</td>\n",
       "      <td>1.271040</td>\n",
       "      <td>-0.081063</td>\n",
       "      <td>1.259424</td>\n",
       "      <td>-0.151072</td>\n",
       "    </tr>\n",
       "    <tr>\n",
       "      <th>3</th>\n",
       "      <td>62</td>\n",
       "      <td>1.334946</td>\n",
       "      <td>-0.103908</td>\n",
       "      <td>1.315677</td>\n",
       "      <td>-0.200692</td>\n",
       "    </tr>\n",
       "    <tr>\n",
       "      <th>4</th>\n",
       "      <td>93</td>\n",
       "      <td>1.343159</td>\n",
       "      <td>-0.072465</td>\n",
       "      <td>1.311010</td>\n",
       "      <td>-0.282984</td>\n",
       "    </tr>\n",
       "  </tbody>\n",
       "</table>\n",
       "</div>"
      ],
      "text/plain": [
       "   ms_since_beginning  sv_total        Ax        Az        Ay\n",
       "0                   0  1.160735 -0.048638  1.149866 -0.150826\n",
       "1                  31  1.232825 -0.066079  1.221349 -0.154265\n",
       "2                  46  1.271040 -0.081063  1.259424 -0.151072\n",
       "3                  62  1.334946 -0.103908  1.315677 -0.200692\n",
       "4                  93  1.343159 -0.072465  1.311010 -0.282984"
      ]
     },
     "execution_count": 17,
     "metadata": {},
     "output_type": "execute_result"
    }
   ],
   "source": [
    "df_train_adl.head()"
   ]
  },
  {
   "cell_type": "code",
   "execution_count": 20,
   "id": "510a21d5",
   "metadata": {},
   "outputs": [],
   "source": [
    "df_test_adl.columns = ['ms_since_beginning','sv_total','Ax','Az','Ay']"
   ]
  },
  {
   "cell_type": "code",
   "execution_count": 21,
   "id": "c219e87c",
   "metadata": {},
   "outputs": [
    {
     "data": {
      "text/html": [
       "<div>\n",
       "<style scoped>\n",
       "    .dataframe tbody tr th:only-of-type {\n",
       "        vertical-align: middle;\n",
       "    }\n",
       "\n",
       "    .dataframe tbody tr th {\n",
       "        vertical-align: top;\n",
       "    }\n",
       "\n",
       "    .dataframe thead th {\n",
       "        text-align: right;\n",
       "    }\n",
       "</style>\n",
       "<table border=\"1\" class=\"dataframe\">\n",
       "  <thead>\n",
       "    <tr style=\"text-align: right;\">\n",
       "      <th></th>\n",
       "      <th>ms_since_beginning</th>\n",
       "      <th>sv_total</th>\n",
       "      <th>Ax</th>\n",
       "      <th>Az</th>\n",
       "      <th>Ay</th>\n",
       "    </tr>\n",
       "  </thead>\n",
       "  <tbody>\n",
       "    <tr>\n",
       "      <th>0</th>\n",
       "      <td>-187.0</td>\n",
       "      <td>1.164722</td>\n",
       "      <td>0.508362</td>\n",
       "      <td>0.598458</td>\n",
       "      <td>0.858435</td>\n",
       "    </tr>\n",
       "    <tr>\n",
       "      <th>1</th>\n",
       "      <td>-177.0</td>\n",
       "      <td>0.867221</td>\n",
       "      <td>0.402072</td>\n",
       "      <td>0.451191</td>\n",
       "      <td>0.622602</td>\n",
       "    </tr>\n",
       "    <tr>\n",
       "      <th>2</th>\n",
       "      <td>-153.0</td>\n",
       "      <td>1.190304</td>\n",
       "      <td>0.512278</td>\n",
       "      <td>0.623657</td>\n",
       "      <td>0.872781</td>\n",
       "    </tr>\n",
       "    <tr>\n",
       "      <th>3</th>\n",
       "      <td>-146.0</td>\n",
       "      <td>1.561568</td>\n",
       "      <td>0.633153</td>\n",
       "      <td>0.831689</td>\n",
       "      <td>1.156918</td>\n",
       "    </tr>\n",
       "    <tr>\n",
       "      <th>4</th>\n",
       "      <td>-121.0</td>\n",
       "      <td>0.793837</td>\n",
       "      <td>0.363163</td>\n",
       "      <td>0.418250</td>\n",
       "      <td>0.569564</td>\n",
       "    </tr>\n",
       "  </tbody>\n",
       "</table>\n",
       "</div>"
      ],
      "text/plain": [
       "   ms_since_beginning  sv_total        Ax        Az        Ay\n",
       "0              -187.0  1.164722  0.508362  0.598458  0.858435\n",
       "1              -177.0  0.867221  0.402072  0.451191  0.622602\n",
       "2              -153.0  1.190304  0.512278  0.623657  0.872781\n",
       "3              -146.0  1.561568  0.633153  0.831689  1.156918\n",
       "4              -121.0  0.793837  0.363163  0.418250  0.569564"
      ]
     },
     "execution_count": 21,
     "metadata": {},
     "output_type": "execute_result"
    }
   ],
   "source": [
    "df_test_adl.head()"
   ]
  },
  {
   "cell_type": "markdown",
   "id": "305d5c0e",
   "metadata": {},
   "source": [
    "### 2) Fazer a mesma coisa para os dados de queda (Fall)"
   ]
  },
  {
   "cell_type": "code",
   "execution_count": 22,
   "id": "897cc78a",
   "metadata": {},
   "outputs": [],
   "source": [
    "path = r'C:\\Users\\menin\\Local Documents\\ML\\Modelagem_UTFPR\\Assignment2\\Fall\\Train' \n",
    "path_test = r'C:\\Users\\menin\\Local Documents\\ML\\Modelagem_UTFPR\\Assignment2\\Fall\\Test' \n",
    "\n",
    "all_files_train = glob.glob(os.path.join(path, \"*.csv\"))\n",
    "all_files_test = glob.glob(os.path.join(path_test, \"*.csv\"))\n",
    "li = []\n",
    "li_test = []\n",
    "\n",
    "for filename in all_files_train:\n",
    "    df = pd.read_csv(filename, index_col=None, header=None)\n",
    "    li.append(df)\n",
    "\n",
    "for filename in all_files_test:\n",
    "    df = pd.read_csv(filename, index_col=None, header=None)\n",
    "    li_test.append(df)\n",
    "    \n",
    "df_train_fall = pd.concat(li, axis=0, ignore_index=True)\n",
    "df_test_fall = pd.concat(li_test, axis=0, ignore_index=True)"
   ]
  },
  {
   "cell_type": "code",
   "execution_count": 23,
   "id": "1e895a0e",
   "metadata": {},
   "outputs": [
    {
     "data": {
      "text/html": [
       "<div>\n",
       "<style scoped>\n",
       "    .dataframe tbody tr th:only-of-type {\n",
       "        vertical-align: middle;\n",
       "    }\n",
       "\n",
       "    .dataframe tbody tr th {\n",
       "        vertical-align: top;\n",
       "    }\n",
       "\n",
       "    .dataframe thead th {\n",
       "        text-align: right;\n",
       "    }\n",
       "</style>\n",
       "<table border=\"1\" class=\"dataframe\">\n",
       "  <thead>\n",
       "    <tr style=\"text-align: right;\">\n",
       "      <th></th>\n",
       "      <th>0</th>\n",
       "      <th>1</th>\n",
       "      <th>2</th>\n",
       "      <th>3</th>\n",
       "      <th>4</th>\n",
       "    </tr>\n",
       "  </thead>\n",
       "  <tbody>\n",
       "    <tr>\n",
       "      <th>0</th>\n",
       "      <td>-2</td>\n",
       "      <td>1.024924</td>\n",
       "      <td>0.128718</td>\n",
       "      <td>0.995601</td>\n",
       "      <td>0.206588</td>\n",
       "    </tr>\n",
       "    <tr>\n",
       "      <th>1</th>\n",
       "      <td>30</td>\n",
       "      <td>1.003218</td>\n",
       "      <td>0.166793</td>\n",
       "      <td>0.974967</td>\n",
       "      <td>0.167530</td>\n",
       "    </tr>\n",
       "    <tr>\n",
       "      <th>2</th>\n",
       "      <td>61</td>\n",
       "      <td>1.022040</td>\n",
       "      <td>0.175391</td>\n",
       "      <td>0.991916</td>\n",
       "      <td>0.172934</td>\n",
       "    </tr>\n",
       "    <tr>\n",
       "      <th>3</th>\n",
       "      <td>65</td>\n",
       "      <td>1.028459</td>\n",
       "      <td>0.152300</td>\n",
       "      <td>1.002479</td>\n",
       "      <td>0.171952</td>\n",
       "    </tr>\n",
       "    <tr>\n",
       "      <th>4</th>\n",
       "      <td>94</td>\n",
       "      <td>1.006250</td>\n",
       "      <td>0.139035</td>\n",
       "      <td>0.979880</td>\n",
       "      <td>0.181778</td>\n",
       "    </tr>\n",
       "  </tbody>\n",
       "</table>\n",
       "</div>"
      ],
      "text/plain": [
       "    0         1         2         3         4\n",
       "0  -2  1.024924  0.128718  0.995601  0.206588\n",
       "1  30  1.003218  0.166793  0.974967  0.167530\n",
       "2  61  1.022040  0.175391  0.991916  0.172934\n",
       "3  65  1.028459  0.152300  1.002479  0.171952\n",
       "4  94  1.006250  0.139035  0.979880  0.181778"
      ]
     },
     "execution_count": 23,
     "metadata": {},
     "output_type": "execute_result"
    }
   ],
   "source": [
    "df_train_fall.head()"
   ]
  },
  {
   "cell_type": "code",
   "execution_count": 25,
   "id": "12f7fb15",
   "metadata": {},
   "outputs": [
    {
     "data": {
      "text/html": [
       "<div>\n",
       "<style scoped>\n",
       "    .dataframe tbody tr th:only-of-type {\n",
       "        vertical-align: middle;\n",
       "    }\n",
       "\n",
       "    .dataframe tbody tr th {\n",
       "        vertical-align: top;\n",
       "    }\n",
       "\n",
       "    .dataframe thead th {\n",
       "        text-align: right;\n",
       "    }\n",
       "</style>\n",
       "<table border=\"1\" class=\"dataframe\">\n",
       "  <thead>\n",
       "    <tr style=\"text-align: right;\">\n",
       "      <th></th>\n",
       "      <th>0</th>\n",
       "      <th>1</th>\n",
       "      <th>2</th>\n",
       "      <th>3</th>\n",
       "      <th>4</th>\n",
       "    </tr>\n",
       "  </thead>\n",
       "  <tbody>\n",
       "    <tr>\n",
       "      <th>0</th>\n",
       "      <td>5.0</td>\n",
       "      <td>1.366855</td>\n",
       "      <td>-0.684301</td>\n",
       "      <td>0.785951</td>\n",
       "      <td>0.040738</td>\n",
       "    </tr>\n",
       "    <tr>\n",
       "      <th>1</th>\n",
       "      <td>21.0</td>\n",
       "      <td>0.977008</td>\n",
       "      <td>-0.923348</td>\n",
       "      <td>0.550218</td>\n",
       "      <td>-0.114537</td>\n",
       "    </tr>\n",
       "    <tr>\n",
       "      <th>2</th>\n",
       "      <td>38.0</td>\n",
       "      <td>1.438821</td>\n",
       "      <td>-0.608400</td>\n",
       "      <td>0.838917</td>\n",
       "      <td>0.126488</td>\n",
       "    </tr>\n",
       "    <tr>\n",
       "      <th>3</th>\n",
       "      <td>54.0</td>\n",
       "      <td>1.984782</td>\n",
       "      <td>-0.269010</td>\n",
       "      <td>1.197440</td>\n",
       "      <td>0.379095</td>\n",
       "    </tr>\n",
       "    <tr>\n",
       "      <th>4</th>\n",
       "      <td>76.0</td>\n",
       "      <td>0.917805</td>\n",
       "      <td>-0.959406</td>\n",
       "      <td>0.518595</td>\n",
       "      <td>-0.073812</td>\n",
       "    </tr>\n",
       "  </tbody>\n",
       "</table>\n",
       "</div>"
      ],
      "text/plain": [
       "      0         1         2         3         4\n",
       "0   5.0  1.366855 -0.684301  0.785951  0.040738\n",
       "1  21.0  0.977008 -0.923348  0.550218 -0.114537\n",
       "2  38.0  1.438821 -0.608400  0.838917  0.126488\n",
       "3  54.0  1.984782 -0.269010  1.197440  0.379095\n",
       "4  76.0  0.917805 -0.959406  0.518595 -0.073812"
      ]
     },
     "execution_count": 25,
     "metadata": {},
     "output_type": "execute_result"
    }
   ],
   "source": [
    "df_test_fall.head()"
   ]
  },
  {
   "cell_type": "code",
   "execution_count": 26,
   "id": "53945d0a",
   "metadata": {},
   "outputs": [],
   "source": [
    "df_train_fall.columns = ['ms_since_beginning','sv_total','Ax','Az','Ay']\n",
    "df_test_fall.columns = ['ms_since_beginning','sv_total','Ax','Az','Ay']"
   ]
  },
  {
   "cell_type": "code",
   "execution_count": 27,
   "id": "1b03c250",
   "metadata": {},
   "outputs": [
    {
     "data": {
      "text/html": [
       "<div>\n",
       "<style scoped>\n",
       "    .dataframe tbody tr th:only-of-type {\n",
       "        vertical-align: middle;\n",
       "    }\n",
       "\n",
       "    .dataframe tbody tr th {\n",
       "        vertical-align: top;\n",
       "    }\n",
       "\n",
       "    .dataframe thead th {\n",
       "        text-align: right;\n",
       "    }\n",
       "</style>\n",
       "<table border=\"1\" class=\"dataframe\">\n",
       "  <thead>\n",
       "    <tr style=\"text-align: right;\">\n",
       "      <th></th>\n",
       "      <th>ms_since_beginning</th>\n",
       "      <th>sv_total</th>\n",
       "      <th>Ax</th>\n",
       "      <th>Az</th>\n",
       "      <th>Ay</th>\n",
       "    </tr>\n",
       "  </thead>\n",
       "  <tbody>\n",
       "    <tr>\n",
       "      <th>0</th>\n",
       "      <td>-2</td>\n",
       "      <td>1.024924</td>\n",
       "      <td>0.128718</td>\n",
       "      <td>0.995601</td>\n",
       "      <td>0.206588</td>\n",
       "    </tr>\n",
       "    <tr>\n",
       "      <th>1</th>\n",
       "      <td>30</td>\n",
       "      <td>1.003218</td>\n",
       "      <td>0.166793</td>\n",
       "      <td>0.974967</td>\n",
       "      <td>0.167530</td>\n",
       "    </tr>\n",
       "    <tr>\n",
       "      <th>2</th>\n",
       "      <td>61</td>\n",
       "      <td>1.022040</td>\n",
       "      <td>0.175391</td>\n",
       "      <td>0.991916</td>\n",
       "      <td>0.172934</td>\n",
       "    </tr>\n",
       "    <tr>\n",
       "      <th>3</th>\n",
       "      <td>65</td>\n",
       "      <td>1.028459</td>\n",
       "      <td>0.152300</td>\n",
       "      <td>1.002479</td>\n",
       "      <td>0.171952</td>\n",
       "    </tr>\n",
       "    <tr>\n",
       "      <th>4</th>\n",
       "      <td>94</td>\n",
       "      <td>1.006250</td>\n",
       "      <td>0.139035</td>\n",
       "      <td>0.979880</td>\n",
       "      <td>0.181778</td>\n",
       "    </tr>\n",
       "  </tbody>\n",
       "</table>\n",
       "</div>"
      ],
      "text/plain": [
       "   ms_since_beginning  sv_total        Ax        Az        Ay\n",
       "0                  -2  1.024924  0.128718  0.995601  0.206588\n",
       "1                  30  1.003218  0.166793  0.974967  0.167530\n",
       "2                  61  1.022040  0.175391  0.991916  0.172934\n",
       "3                  65  1.028459  0.152300  1.002479  0.171952\n",
       "4                  94  1.006250  0.139035  0.979880  0.181778"
      ]
     },
     "execution_count": 27,
     "metadata": {},
     "output_type": "execute_result"
    }
   ],
   "source": [
    "df_train_fall.head()"
   ]
  },
  {
   "cell_type": "code",
   "execution_count": 28,
   "id": "399a9c58",
   "metadata": {},
   "outputs": [
    {
     "data": {
      "text/html": [
       "<div>\n",
       "<style scoped>\n",
       "    .dataframe tbody tr th:only-of-type {\n",
       "        vertical-align: middle;\n",
       "    }\n",
       "\n",
       "    .dataframe tbody tr th {\n",
       "        vertical-align: top;\n",
       "    }\n",
       "\n",
       "    .dataframe thead th {\n",
       "        text-align: right;\n",
       "    }\n",
       "</style>\n",
       "<table border=\"1\" class=\"dataframe\">\n",
       "  <thead>\n",
       "    <tr style=\"text-align: right;\">\n",
       "      <th></th>\n",
       "      <th>ms_since_beginning</th>\n",
       "      <th>sv_total</th>\n",
       "      <th>Ax</th>\n",
       "      <th>Az</th>\n",
       "      <th>Ay</th>\n",
       "    </tr>\n",
       "  </thead>\n",
       "  <tbody>\n",
       "    <tr>\n",
       "      <th>0</th>\n",
       "      <td>5.0</td>\n",
       "      <td>1.366855</td>\n",
       "      <td>-0.684301</td>\n",
       "      <td>0.785951</td>\n",
       "      <td>0.040738</td>\n",
       "    </tr>\n",
       "    <tr>\n",
       "      <th>1</th>\n",
       "      <td>21.0</td>\n",
       "      <td>0.977008</td>\n",
       "      <td>-0.923348</td>\n",
       "      <td>0.550218</td>\n",
       "      <td>-0.114537</td>\n",
       "    </tr>\n",
       "    <tr>\n",
       "      <th>2</th>\n",
       "      <td>38.0</td>\n",
       "      <td>1.438821</td>\n",
       "      <td>-0.608400</td>\n",
       "      <td>0.838917</td>\n",
       "      <td>0.126488</td>\n",
       "    </tr>\n",
       "    <tr>\n",
       "      <th>3</th>\n",
       "      <td>54.0</td>\n",
       "      <td>1.984782</td>\n",
       "      <td>-0.269010</td>\n",
       "      <td>1.197440</td>\n",
       "      <td>0.379095</td>\n",
       "    </tr>\n",
       "    <tr>\n",
       "      <th>4</th>\n",
       "      <td>76.0</td>\n",
       "      <td>0.917805</td>\n",
       "      <td>-0.959406</td>\n",
       "      <td>0.518595</td>\n",
       "      <td>-0.073812</td>\n",
       "    </tr>\n",
       "  </tbody>\n",
       "</table>\n",
       "</div>"
      ],
      "text/plain": [
       "   ms_since_beginning  sv_total        Ax        Az        Ay\n",
       "0                 5.0  1.366855 -0.684301  0.785951  0.040738\n",
       "1                21.0  0.977008 -0.923348  0.550218 -0.114537\n",
       "2                38.0  1.438821 -0.608400  0.838917  0.126488\n",
       "3                54.0  1.984782 -0.269010  1.197440  0.379095\n",
       "4                76.0  0.917805 -0.959406  0.518595 -0.073812"
      ]
     },
     "execution_count": 28,
     "metadata": {},
     "output_type": "execute_result"
    }
   ],
   "source": [
    "df_test_fall.head()"
   ]
  },
  {
   "cell_type": "markdown",
   "id": "59b2b5b6",
   "metadata": {},
   "source": [
    "### 3) Visualizar alguns dos sinais dos datasets de treino"
   ]
  },
  {
   "cell_type": "code",
   "execution_count": 30,
   "id": "fd9e8be6",
   "metadata": {},
   "outputs": [],
   "source": [
    "import matplotlib.pyplot as plt\n",
    "import numpy as np"
   ]
  },
  {
   "cell_type": "markdown",
   "id": "f11b0ed8",
   "metadata": {},
   "source": [
    "#### Começando por um scatter plot das variáveis SV_total, Ax, Az, Ay pelo tempo do dataset de treino ADL/Fall"
   ]
  },
  {
   "cell_type": "markdown",
   "id": "627566f6",
   "metadata": {},
   "source": [
    "### ADL"
   ]
  },
  {
   "cell_type": "code",
   "execution_count": 44,
   "id": "f22c441a",
   "metadata": {},
   "outputs": [],
   "source": [
    "def scatter_plot(ax, x, y, xlabel, ylabel,color,fontsize=12):\n",
    "    ax.scatter(x,y,c=color)\n",
    "    ax.locator_params(nbins=3)\n",
    "    ax.set_xlabel(xlabel, fontsize=fontsize)\n",
    "    ax.set_ylabel(ylabel, fontsize=fontsize)\n",
    "\n",
    "def plot_scatter_data(dataframe):\n",
    "    fig, ((ax1, ax2), (ax3, ax4)) = plt.subplots(nrows=2, ncols=2)\n",
    "    scatter_plot(ax1,dataframe['ms_since_beginning'], dataframe['sv_total'],'ms since beginning','SV_total','r')\n",
    "    scatter_plot(ax2,dataframe['ms_since_beginning'], dataframe['Ax'],'ms since beginning','Ax','b')\n",
    "    scatter_plot(ax3,dataframe['ms_since_beginning'], dataframe['Az'],'ms since beginning',\"Az\",'g')\n",
    "    scatter_plot(ax4,dataframe['ms_since_beginning'], dataframe['Ay'],'ms since beginning','Ay','c')"
   ]
  },
  {
   "cell_type": "code",
   "execution_count": 45,
   "id": "fe202ee5",
   "metadata": {},
   "outputs": [
    {
     "data": {
      "image/png": "[encoded data removed]",
      "text/plain": [
       "<Figure size 432x288 with 4 Axes>"
      ]
     },
     "metadata": {
      "needs_background": "light"
     },
     "output_type": "display_data"
    }
   ],
   "source": [
    "plot_scatter_data(df_train_adl)\n",
    "plt.tight_layout()"
   ]
  },
  {
   "cell_type": "markdown",
   "id": "853172ae",
   "metadata": {},
   "source": [
    "### Fall"
   ]
  },
  {
   "cell_type": "code",
   "execution_count": 46,
   "id": "9dc8603c",
   "metadata": {},
   "outputs": [
    {
     "data": {
      "image/png": "[encoded data removed]",
      "text/plain": [
       "<Figure size 432x288 with 4 Axes>"
      ]
     },
     "metadata": {
      "needs_background": "light"
     },
     "output_type": "display_data"
    }
   ],
   "source": [
    "plot_scatter_data(df_train_fall)\n",
    "plt.tight_layout()"
   ]
  },
  {
   "cell_type": "code",
   "execution_count": null,
   "id": "7abb3b63",
   "metadata": {},
   "outputs": [],
   "source": []
  },
  {
   "cell_type": "code",
   "execution_count": null,
   "id": "33ace5ce",
   "metadata": {},
   "outputs": [],
   "source": []
  },
  {
   "cell_type": "markdown",
   "id": "c8c0a322",
   "metadata": {},
   "source": [
    "#### Agora um plot de distribuição das variáveis, para os datasets de treino ADL e Fall"
   ]
  },
  {
   "cell_type": "code",
   "execution_count": 33,
   "id": "61f70dea",
   "metadata": {},
   "outputs": [],
   "source": [
    "import seaborn as sns"
   ]
  },
  {
   "cell_type": "markdown",
   "id": "ee28e88c",
   "metadata": {},
   "source": [
    "### ADL"
   ]
  },
  {
   "cell_type": "code",
   "execution_count": 55,
   "id": "e40e5e5b",
   "metadata": {},
   "outputs": [],
   "source": [
    "def dist_plot(ax, y, ylabel,color,fontsize=12):\n",
    "    ax.set_ylabel(ylabel, fontsize=fontsize)\n",
    "    sns.distplot(y,color=color,ax=ax)\n",
    "\n",
    "def plot_dist_data(dataframe):\n",
    "    fig, ((ax1, ax2), (ax3, ax4)) = plt.subplots(nrows=2, ncols=2)\n",
    "    dist_plot(ax1, dataframe['sv_total'],'SV_total','r')\n",
    "    dist_plot(ax2, dataframe['Ax'],'Ax','b')\n",
    "    dist_plot(ax3, dataframe['Az'],\"Az\",'g')\n",
    "    dist_plot(ax4, dataframe['Ay'],'Ay','c')"
   ]
  },
  {
   "cell_type": "code",
   "execution_count": 57,
   "id": "89333255",
   "metadata": {},
   "outputs": [
    {
     "name": "stderr",
     "output_type": "stream",
     "text": [
      "C:\\Users\\menin\\anaconda3\\lib\\site-packages\\seaborn\\distributions.py:2619: FutureWarning: `distplot` is a deprecated function and will be removed in a future version. Please adapt your code to use either `displot` (a figure-level function with similar flexibility) or `histplot` (an axes-level function for histograms).\n",
      "  warnings.warn(msg, FutureWarning)\n",
      "C:\\Users\\menin\\anaconda3\\lib\\site-packages\\seaborn\\distributions.py:2619: FutureWarning: `distplot` is a deprecated function and will be removed in a future version. Please adapt your code to use either `displot` (a figure-level function with similar flexibility) or `histplot` (an axes-level function for histograms).\n",
      "  warnings.warn(msg, FutureWarning)\n",
      "C:\\Users\\menin\\anaconda3\\lib\\site-packages\\seaborn\\distributions.py:2619: FutureWarning: `distplot` is a deprecated function and will be removed in a future version. Please adapt your code to use either `displot` (a figure-level function with similar flexibility) or `histplot` (an axes-level function for histograms).\n",
      "  warnings.warn(msg, FutureWarning)\n",
      "C:\\Users\\menin\\anaconda3\\lib\\site-packages\\seaborn\\distributions.py:2619: FutureWarning: `distplot` is a deprecated function and will be removed in a future version. Please adapt your code to use either `displot` (a figure-level function with similar flexibility) or `histplot` (an axes-level function for histograms).\n",
      "  warnings.warn(msg, FutureWarning)\n"
     ]
    },
    {
     "data": {
      "image/png": "[encoded data removed]",
      "text/plain": [
       "<Figure size 432x288 with 4 Axes>"
      ]
     },
     "metadata": {
      "needs_background": "light"
     },
     "output_type": "display_data"
    }
   ],
   "source": [
    "plot_dist_data(df_train_adl)\n",
    "plt.tight_layout()"
   ]
  },
  {
   "cell_type": "markdown",
   "id": "f8c8e891",
   "metadata": {},
   "source": [
    "### Fall"
   ]
  },
  {
   "cell_type": "code",
   "execution_count": 58,
   "id": "0fd48289",
   "metadata": {},
   "outputs": [
    {
     "name": "stderr",
     "output_type": "stream",
     "text": [
      "C:\\Users\\menin\\anaconda3\\lib\\site-packages\\seaborn\\distributions.py:2619: FutureWarning: `distplot` is a deprecated function and will be removed in a future version. Please adapt your code to use either `displot` (a figure-level function with similar flexibility) or `histplot` (an axes-level function for histograms).\n",
      "  warnings.warn(msg, FutureWarning)\n",
      "C:\\Users\\menin\\anaconda3\\lib\\site-packages\\seaborn\\distributions.py:2619: FutureWarning: `distplot` is a deprecated function and will be removed in a future version. Please adapt your code to use either `displot` (a figure-level function with similar flexibility) or `histplot` (an axes-level function for histograms).\n",
      "  warnings.warn(msg, FutureWarning)\n",
      "C:\\Users\\menin\\anaconda3\\lib\\site-packages\\seaborn\\distributions.py:2619: FutureWarning: `distplot` is a deprecated function and will be removed in a future version. Please adapt your code to use either `displot` (a figure-level function with similar flexibility) or `histplot` (an axes-level function for histograms).\n",
      "  warnings.warn(msg, FutureWarning)\n",
      "C:\\Users\\menin\\anaconda3\\lib\\site-packages\\seaborn\\distributions.py:2619: FutureWarning: `distplot` is a deprecated function and will be removed in a future version. Please adapt your code to use either `displot` (a figure-level function with similar flexibility) or `histplot` (an axes-level function for histograms).\n",
      "  warnings.warn(msg, FutureWarning)\n"
     ]
    },
    {
     "data": {
      "image/png": "[encoded data removed]",
      "text/plain": [
       "<Figure size 432x288 with 4 Axes>"
      ]
     },
     "metadata": {
      "needs_background": "light"
     },
     "output_type": "display_data"
    }
   ],
   "source": [
    "plot_dist_data(df_train_fall)\n",
    "plt.tight_layout()"
   ]
  },
  {
   "cell_type": "markdown",
   "id": "767c1ed5",
   "metadata": {},
   "source": [
    "### 4) Criar novas features a partir das existentes"
   ]
  },
  {
   "cell_type": "markdown",
   "id": "d4448371",
   "metadata": {},
   "source": [
    "#### Média (Average)"
   ]
  },
  {
   "cell_type": "code",
   "execution_count": 62,
   "id": "f71e7c75",
   "metadata": {},
   "outputs": [],
   "source": [
    "def calc_avg(df):\n",
    "    for i in range(len(df)):\n",
    "        df.loc[i,'Avg_A'] = np.average([df.loc[i,'Ax'],df.loc[i,'Az'],df.loc[i,'Ay']])"
   ]
  },
  {
   "cell_type": "code",
   "execution_count": 63,
   "id": "32b0d878",
   "metadata": {},
   "outputs": [],
   "source": [
    "calc_avg(df_train_adl)"
   ]
  },
  {
   "cell_type": "code",
   "execution_count": 64,
   "id": "3cccff23",
   "metadata": {},
   "outputs": [
    {
     "data": {
      "text/html": [
       "<div>\n",
       "<style scoped>\n",
       "    .dataframe tbody tr th:only-of-type {\n",
       "        vertical-align: middle;\n",
       "    }\n",
       "\n",
       "    .dataframe tbody tr th {\n",
       "        vertical-align: top;\n",
       "    }\n",
       "\n",
       "    .dataframe thead th {\n",
       "        text-align: right;\n",
       "    }\n",
       "</style>\n",
       "<table border=\"1\" class=\"dataframe\">\n",
       "  <thead>\n",
       "    <tr style=\"text-align: right;\">\n",
       "      <th></th>\n",
       "      <th>ms_since_beginning</th>\n",
       "      <th>sv_total</th>\n",
       "      <th>Ax</th>\n",
       "      <th>Az</th>\n",
       "      <th>Ay</th>\n",
       "      <th>Avg_A</th>\n",
       "    </tr>\n",
       "  </thead>\n",
       "  <tbody>\n",
       "    <tr>\n",
       "      <th>0</th>\n",
       "      <td>0</td>\n",
       "      <td>1.160735</td>\n",
       "      <td>-0.048638</td>\n",
       "      <td>1.149866</td>\n",
       "      <td>-0.150826</td>\n",
       "      <td>0.316801</td>\n",
       "    </tr>\n",
       "    <tr>\n",
       "      <th>1</th>\n",
       "      <td>31</td>\n",
       "      <td>1.232825</td>\n",
       "      <td>-0.066079</td>\n",
       "      <td>1.221349</td>\n",
       "      <td>-0.154265</td>\n",
       "      <td>0.333668</td>\n",
       "    </tr>\n",
       "    <tr>\n",
       "      <th>2</th>\n",
       "      <td>46</td>\n",
       "      <td>1.271040</td>\n",
       "      <td>-0.081063</td>\n",
       "      <td>1.259424</td>\n",
       "      <td>-0.151072</td>\n",
       "      <td>0.342430</td>\n",
       "    </tr>\n",
       "    <tr>\n",
       "      <th>3</th>\n",
       "      <td>62</td>\n",
       "      <td>1.334946</td>\n",
       "      <td>-0.103908</td>\n",
       "      <td>1.315677</td>\n",
       "      <td>-0.200692</td>\n",
       "      <td>0.337026</td>\n",
       "    </tr>\n",
       "    <tr>\n",
       "      <th>4</th>\n",
       "      <td>93</td>\n",
       "      <td>1.343159</td>\n",
       "      <td>-0.072465</td>\n",
       "      <td>1.311010</td>\n",
       "      <td>-0.282984</td>\n",
       "      <td>0.318520</td>\n",
       "    </tr>\n",
       "  </tbody>\n",
       "</table>\n",
       "</div>"
      ],
      "text/plain": [
       "   ms_since_beginning  sv_total        Ax        Az        Ay     Avg_A\n",
       "0                   0  1.160735 -0.048638  1.149866 -0.150826  0.316801\n",
       "1                  31  1.232825 -0.066079  1.221349 -0.154265  0.333668\n",
       "2                  46  1.271040 -0.081063  1.259424 -0.151072  0.342430\n",
       "3                  62  1.334946 -0.103908  1.315677 -0.200692  0.337026\n",
       "4                  93  1.343159 -0.072465  1.311010 -0.282984  0.318520"
      ]
     },
     "execution_count": 64,
     "metadata": {},
     "output_type": "execute_result"
    }
   ],
   "source": [
    "df_train_adl.head()"
   ]
  },
  {
   "cell_type": "code",
   "execution_count": 65,
   "id": "280e5fe5",
   "metadata": {},
   "outputs": [],
   "source": [
    "calc_avg(df_test_adl)\n",
    "calc_avg(df_train_fall)\n",
    "calc_avg(df_test_fall)"
   ]
  },
  {
   "cell_type": "code",
   "execution_count": 66,
   "id": "25980dab",
   "metadata": {},
   "outputs": [
    {
     "data": {
      "text/html": [
       "<div>\n",
       "<style scoped>\n",
       "    .dataframe tbody tr th:only-of-type {\n",
       "        vertical-align: middle;\n",
       "    }\n",
       "\n",
       "    .dataframe tbody tr th {\n",
       "        vertical-align: top;\n",
       "    }\n",
       "\n",
       "    .dataframe thead th {\n",
       "        text-align: right;\n",
       "    }\n",
       "</style>\n",
       "<table border=\"1\" class=\"dataframe\">\n",
       "  <thead>\n",
       "    <tr style=\"text-align: right;\">\n",
       "      <th></th>\n",
       "      <th>ms_since_beginning</th>\n",
       "      <th>sv_total</th>\n",
       "      <th>Ax</th>\n",
       "      <th>Az</th>\n",
       "      <th>Ay</th>\n",
       "      <th>Avg_A</th>\n",
       "    </tr>\n",
       "  </thead>\n",
       "  <tbody>\n",
       "    <tr>\n",
       "      <th>0</th>\n",
       "      <td>-187.0</td>\n",
       "      <td>1.164722</td>\n",
       "      <td>0.508362</td>\n",
       "      <td>0.598458</td>\n",
       "      <td>0.858435</td>\n",
       "      <td>0.655085</td>\n",
       "    </tr>\n",
       "    <tr>\n",
       "      <th>1</th>\n",
       "      <td>-177.0</td>\n",
       "      <td>0.867221</td>\n",
       "      <td>0.402072</td>\n",
       "      <td>0.451191</td>\n",
       "      <td>0.622602</td>\n",
       "      <td>0.491955</td>\n",
       "    </tr>\n",
       "    <tr>\n",
       "      <th>2</th>\n",
       "      <td>-153.0</td>\n",
       "      <td>1.190304</td>\n",
       "      <td>0.512278</td>\n",
       "      <td>0.623657</td>\n",
       "      <td>0.872781</td>\n",
       "      <td>0.669572</td>\n",
       "    </tr>\n",
       "    <tr>\n",
       "      <th>3</th>\n",
       "      <td>-146.0</td>\n",
       "      <td>1.561568</td>\n",
       "      <td>0.633153</td>\n",
       "      <td>0.831689</td>\n",
       "      <td>1.156918</td>\n",
       "      <td>0.873920</td>\n",
       "    </tr>\n",
       "    <tr>\n",
       "      <th>4</th>\n",
       "      <td>-121.0</td>\n",
       "      <td>0.793837</td>\n",
       "      <td>0.363163</td>\n",
       "      <td>0.418250</td>\n",
       "      <td>0.569564</td>\n",
       "      <td>0.450326</td>\n",
       "    </tr>\n",
       "  </tbody>\n",
       "</table>\n",
       "</div>"
      ],
      "text/plain": [
       "   ms_since_beginning  sv_total        Ax        Az        Ay     Avg_A\n",
       "0              -187.0  1.164722  0.508362  0.598458  0.858435  0.655085\n",
       "1              -177.0  0.867221  0.402072  0.451191  0.622602  0.491955\n",
       "2              -153.0  1.190304  0.512278  0.623657  0.872781  0.669572\n",
       "3              -146.0  1.561568  0.633153  0.831689  1.156918  0.873920\n",
       "4              -121.0  0.793837  0.363163  0.418250  0.569564  0.450326"
      ]
     },
     "execution_count": 66,
     "metadata": {},
     "output_type": "execute_result"
    }
   ],
   "source": [
    "df_test_adl.head()"
   ]
  },
  {
   "cell_type": "code",
   "execution_count": 67,
   "id": "537dce32",
   "metadata": {},
   "outputs": [
    {
     "data": {
      "text/html": [
       "<div>\n",
       "<style scoped>\n",
       "    .dataframe tbody tr th:only-of-type {\n",
       "        vertical-align: middle;\n",
       "    }\n",
       "\n",
       "    .dataframe tbody tr th {\n",
       "        vertical-align: top;\n",
       "    }\n",
       "\n",
       "    .dataframe thead th {\n",
       "        text-align: right;\n",
       "    }\n",
       "</style>\n",
       "<table border=\"1\" class=\"dataframe\">\n",
       "  <thead>\n",
       "    <tr style=\"text-align: right;\">\n",
       "      <th></th>\n",
       "      <th>ms_since_beginning</th>\n",
       "      <th>sv_total</th>\n",
       "      <th>Ax</th>\n",
       "      <th>Az</th>\n",
       "      <th>Ay</th>\n",
       "      <th>Avg_A</th>\n",
       "    </tr>\n",
       "  </thead>\n",
       "  <tbody>\n",
       "    <tr>\n",
       "      <th>0</th>\n",
       "      <td>-2</td>\n",
       "      <td>1.024924</td>\n",
       "      <td>0.128718</td>\n",
       "      <td>0.995601</td>\n",
       "      <td>0.206588</td>\n",
       "      <td>0.443636</td>\n",
       "    </tr>\n",
       "    <tr>\n",
       "      <th>1</th>\n",
       "      <td>30</td>\n",
       "      <td>1.003218</td>\n",
       "      <td>0.166793</td>\n",
       "      <td>0.974967</td>\n",
       "      <td>0.167530</td>\n",
       "      <td>0.436430</td>\n",
       "    </tr>\n",
       "    <tr>\n",
       "      <th>2</th>\n",
       "      <td>61</td>\n",
       "      <td>1.022040</td>\n",
       "      <td>0.175391</td>\n",
       "      <td>0.991916</td>\n",
       "      <td>0.172934</td>\n",
       "      <td>0.446747</td>\n",
       "    </tr>\n",
       "    <tr>\n",
       "      <th>3</th>\n",
       "      <td>65</td>\n",
       "      <td>1.028459</td>\n",
       "      <td>0.152300</td>\n",
       "      <td>1.002479</td>\n",
       "      <td>0.171952</td>\n",
       "      <td>0.442244</td>\n",
       "    </tr>\n",
       "    <tr>\n",
       "      <th>4</th>\n",
       "      <td>94</td>\n",
       "      <td>1.006250</td>\n",
       "      <td>0.139035</td>\n",
       "      <td>0.979880</td>\n",
       "      <td>0.181778</td>\n",
       "      <td>0.433564</td>\n",
       "    </tr>\n",
       "  </tbody>\n",
       "</table>\n",
       "</div>"
      ],
      "text/plain": [
       "   ms_since_beginning  sv_total        Ax        Az        Ay     Avg_A\n",
       "0                  -2  1.024924  0.128718  0.995601  0.206588  0.443636\n",
       "1                  30  1.003218  0.166793  0.974967  0.167530  0.436430\n",
       "2                  61  1.022040  0.175391  0.991916  0.172934  0.446747\n",
       "3                  65  1.028459  0.152300  1.002479  0.171952  0.442244\n",
       "4                  94  1.006250  0.139035  0.979880  0.181778  0.433564"
      ]
     },
     "execution_count": 67,
     "metadata": {},
     "output_type": "execute_result"
    }
   ],
   "source": [
    "df_train_fall.head()"
   ]
  },
  {
   "cell_type": "code",
   "execution_count": 68,
   "id": "0e8bc897",
   "metadata": {},
   "outputs": [
    {
     "data": {
      "text/html": [
       "<div>\n",
       "<style scoped>\n",
       "    .dataframe tbody tr th:only-of-type {\n",
       "        vertical-align: middle;\n",
       "    }\n",
       "\n",
       "    .dataframe tbody tr th {\n",
       "        vertical-align: top;\n",
       "    }\n",
       "\n",
       "    .dataframe thead th {\n",
       "        text-align: right;\n",
       "    }\n",
       "</style>\n",
       "<table border=\"1\" class=\"dataframe\">\n",
       "  <thead>\n",
       "    <tr style=\"text-align: right;\">\n",
       "      <th></th>\n",
       "      <th>ms_since_beginning</th>\n",
       "      <th>sv_total</th>\n",
       "      <th>Ax</th>\n",
       "      <th>Az</th>\n",
       "      <th>Ay</th>\n",
       "      <th>Avg_A</th>\n",
       "    </tr>\n",
       "  </thead>\n",
       "  <tbody>\n",
       "    <tr>\n",
       "      <th>0</th>\n",
       "      <td>5.0</td>\n",
       "      <td>1.366855</td>\n",
       "      <td>-0.684301</td>\n",
       "      <td>0.785951</td>\n",
       "      <td>0.040738</td>\n",
       "      <td>0.047463</td>\n",
       "    </tr>\n",
       "    <tr>\n",
       "      <th>1</th>\n",
       "      <td>21.0</td>\n",
       "      <td>0.977008</td>\n",
       "      <td>-0.923348</td>\n",
       "      <td>0.550218</td>\n",
       "      <td>-0.114537</td>\n",
       "      <td>-0.162556</td>\n",
       "    </tr>\n",
       "    <tr>\n",
       "      <th>2</th>\n",
       "      <td>38.0</td>\n",
       "      <td>1.438821</td>\n",
       "      <td>-0.608400</td>\n",
       "      <td>0.838917</td>\n",
       "      <td>0.126488</td>\n",
       "      <td>0.119002</td>\n",
       "    </tr>\n",
       "    <tr>\n",
       "      <th>3</th>\n",
       "      <td>54.0</td>\n",
       "      <td>1.984782</td>\n",
       "      <td>-0.269010</td>\n",
       "      <td>1.197440</td>\n",
       "      <td>0.379095</td>\n",
       "      <td>0.435842</td>\n",
       "    </tr>\n",
       "    <tr>\n",
       "      <th>4</th>\n",
       "      <td>76.0</td>\n",
       "      <td>0.917805</td>\n",
       "      <td>-0.959406</td>\n",
       "      <td>0.518595</td>\n",
       "      <td>-0.073812</td>\n",
       "      <td>-0.171541</td>\n",
       "    </tr>\n",
       "  </tbody>\n",
       "</table>\n",
       "</div>"
      ],
      "text/plain": [
       "   ms_since_beginning  sv_total        Ax        Az        Ay     Avg_A\n",
       "0                 5.0  1.366855 -0.684301  0.785951  0.040738  0.047463\n",
       "1                21.0  0.977008 -0.923348  0.550218 -0.114537 -0.162556\n",
       "2                38.0  1.438821 -0.608400  0.838917  0.126488  0.119002\n",
       "3                54.0  1.984782 -0.269010  1.197440  0.379095  0.435842\n",
       "4                76.0  0.917805 -0.959406  0.518595 -0.073812 -0.171541"
      ]
     },
     "execution_count": 68,
     "metadata": {},
     "output_type": "execute_result"
    }
   ],
   "source": [
    "df_test_fall.head()"
   ]
  },
  {
   "cell_type": "code",
   "execution_count": null,
   "id": "24ba4d26",
   "metadata": {},
   "outputs": [],
   "source": []
  }
 ],
 "metadata": {
  "kernelspec": {
   "display_name": "Python 3 (ipykernel)",
   "language": "python",
   "name": "python3"
  },
  "language_info": {
   "codemirror_mode": {
    "name": "ipython",
    "version": 3
   },
   "file_extension": ".py",
   "mimetype": "text/x-python",
   "name": "python",
   "nbconvert_exporter": "python",
   "pygments_lexer": "ipython3",
   "version": "3.9.7"
  }
 },
 "nbformat": 4,
 "nbformat_minor": 5
}
