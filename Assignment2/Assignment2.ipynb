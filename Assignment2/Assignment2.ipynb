{
 "cells": [
  {
   "cell_type": "markdown",
   "id": "5aac6ae5",
   "metadata": {},
   "source": [
    "### Assignment 2 - Introdução à Modelagem e Aprendizado UTFPR"
   ]
  },
  {
   "cell_type": "markdown",
   "id": "e2a82005",
   "metadata": {},
   "source": [
    "#### Alunos: Mariana Bittencourt e Thiago Lemos"
   ]
  },
  {
   "cell_type": "code",
   "execution_count": 257,
   "id": "d34dcf1f",
   "metadata": {},
   "outputs": [],
   "source": [
    "import pandas as pd\n",
    "import glob\n",
    "import os"
   ]
  },
  {
   "cell_type": "markdown",
   "id": "8da4ed5a",
   "metadata": {},
   "source": [
    "### 1) Primeiro passo: Abrir, concatenar e analisar os datasets de treino e teste para situações de atividades cotidianas (ADL)"
   ]
  },
  {
   "cell_type": "code",
   "execution_count": 258,
   "id": "4a14c925",
   "metadata": {},
   "outputs": [],
   "source": [
    "path = r'C:\\Users\\menin\\Local Documents\\ML\\Modelagem_UTFPR\\Assignment2\\ADL\\Train' \n",
    "path_test = r'C:\\Users\\menin\\Local Documents\\ML\\Modelagem_UTFPR\\Assignment2\\ADL\\Test' \n",
    "\n",
    "all_files_train = glob.glob(os.path.join(path, \"*.csv\"))\n",
    "all_files_test = glob.glob(os.path.join(path_test, \"*.csv\"))\n",
    "li = []\n",
    "li_test = []\n",
    "\n",
    "for filename in all_files_train:\n",
    "    df = pd.read_csv(filename, index_col=None, header=None)\n",
    "    li.append(df)\n",
    "\n",
    "for filename in all_files_test:\n",
    "    df = pd.read_csv(filename, index_col=None, header=None)\n",
    "    li_test.append(df)\n",
    "    \n",
    "df_train_adl = pd.concat(li, axis=0, ignore_index=True)\n",
    "df_test_adl = pd.concat(li_test, axis=0, ignore_index=True)"
   ]
  },
  {
   "cell_type": "code",
   "execution_count": 259,
   "id": "1061ae4c",
   "metadata": {},
   "outputs": [
    {
     "data": {
      "text/html": [
       "<div>\n",
       "<style scoped>\n",
       "    .dataframe tbody tr th:only-of-type {\n",
       "        vertical-align: middle;\n",
       "    }\n",
       "\n",
       "    .dataframe tbody tr th {\n",
       "        vertical-align: top;\n",
       "    }\n",
       "\n",
       "    .dataframe thead th {\n",
       "        text-align: right;\n",
       "    }\n",
       "</style>\n",
       "<table border=\"1\" class=\"dataframe\">\n",
       "  <thead>\n",
       "    <tr style=\"text-align: right;\">\n",
       "      <th></th>\n",
       "      <th>0</th>\n",
       "      <th>1</th>\n",
       "      <th>2</th>\n",
       "      <th>3</th>\n",
       "      <th>4</th>\n",
       "    </tr>\n",
       "  </thead>\n",
       "  <tbody>\n",
       "    <tr>\n",
       "      <th>0</th>\n",
       "      <td>0</td>\n",
       "      <td>1.160735</td>\n",
       "      <td>-0.048638</td>\n",
       "      <td>1.149866</td>\n",
       "      <td>-0.150826</td>\n",
       "    </tr>\n",
       "    <tr>\n",
       "      <th>1</th>\n",
       "      <td>31</td>\n",
       "      <td>1.232825</td>\n",
       "      <td>-0.066079</td>\n",
       "      <td>1.221349</td>\n",
       "      <td>-0.154265</td>\n",
       "    </tr>\n",
       "    <tr>\n",
       "      <th>2</th>\n",
       "      <td>46</td>\n",
       "      <td>1.271040</td>\n",
       "      <td>-0.081063</td>\n",
       "      <td>1.259424</td>\n",
       "      <td>-0.151072</td>\n",
       "    </tr>\n",
       "    <tr>\n",
       "      <th>3</th>\n",
       "      <td>62</td>\n",
       "      <td>1.334946</td>\n",
       "      <td>-0.103908</td>\n",
       "      <td>1.315677</td>\n",
       "      <td>-0.200692</td>\n",
       "    </tr>\n",
       "    <tr>\n",
       "      <th>4</th>\n",
       "      <td>93</td>\n",
       "      <td>1.343159</td>\n",
       "      <td>-0.072465</td>\n",
       "      <td>1.311010</td>\n",
       "      <td>-0.282984</td>\n",
       "    </tr>\n",
       "  </tbody>\n",
       "</table>\n",
       "</div>"
      ],
      "text/plain": [
       "    0         1         2         3         4\n",
       "0   0  1.160735 -0.048638  1.149866 -0.150826\n",
       "1  31  1.232825 -0.066079  1.221349 -0.154265\n",
       "2  46  1.271040 -0.081063  1.259424 -0.151072\n",
       "3  62  1.334946 -0.103908  1.315677 -0.200692\n",
       "4  93  1.343159 -0.072465  1.311010 -0.282984"
      ]
     },
     "execution_count": 259,
     "metadata": {},
     "output_type": "execute_result"
    }
   ],
   "source": [
    "df_train_adl.head()"
   ]
  },
  {
   "cell_type": "code",
   "execution_count": 260,
   "id": "a5c6192a",
   "metadata": {},
   "outputs": [
    {
     "data": {
      "text/html": [
       "<div>\n",
       "<style scoped>\n",
       "    .dataframe tbody tr th:only-of-type {\n",
       "        vertical-align: middle;\n",
       "    }\n",
       "\n",
       "    .dataframe tbody tr th {\n",
       "        vertical-align: top;\n",
       "    }\n",
       "\n",
       "    .dataframe thead th {\n",
       "        text-align: right;\n",
       "    }\n",
       "</style>\n",
       "<table border=\"1\" class=\"dataframe\">\n",
       "  <thead>\n",
       "    <tr style=\"text-align: right;\">\n",
       "      <th></th>\n",
       "      <th>0</th>\n",
       "      <th>1</th>\n",
       "      <th>2</th>\n",
       "      <th>3</th>\n",
       "      <th>4</th>\n",
       "    </tr>\n",
       "  </thead>\n",
       "  <tbody>\n",
       "    <tr>\n",
       "      <th>0</th>\n",
       "      <td>-187.0</td>\n",
       "      <td>1.164722</td>\n",
       "      <td>0.508362</td>\n",
       "      <td>0.598458</td>\n",
       "      <td>0.858435</td>\n",
       "    </tr>\n",
       "    <tr>\n",
       "      <th>1</th>\n",
       "      <td>-177.0</td>\n",
       "      <td>0.867221</td>\n",
       "      <td>0.402072</td>\n",
       "      <td>0.451191</td>\n",
       "      <td>0.622602</td>\n",
       "    </tr>\n",
       "    <tr>\n",
       "      <th>2</th>\n",
       "      <td>-153.0</td>\n",
       "      <td>1.190304</td>\n",
       "      <td>0.512278</td>\n",
       "      <td>0.623657</td>\n",
       "      <td>0.872781</td>\n",
       "    </tr>\n",
       "    <tr>\n",
       "      <th>3</th>\n",
       "      <td>-146.0</td>\n",
       "      <td>1.561568</td>\n",
       "      <td>0.633153</td>\n",
       "      <td>0.831689</td>\n",
       "      <td>1.156918</td>\n",
       "    </tr>\n",
       "    <tr>\n",
       "      <th>4</th>\n",
       "      <td>-121.0</td>\n",
       "      <td>0.793837</td>\n",
       "      <td>0.363163</td>\n",
       "      <td>0.418250</td>\n",
       "      <td>0.569564</td>\n",
       "    </tr>\n",
       "  </tbody>\n",
       "</table>\n",
       "</div>"
      ],
      "text/plain": [
       "       0         1         2         3         4\n",
       "0 -187.0  1.164722  0.508362  0.598458  0.858435\n",
       "1 -177.0  0.867221  0.402072  0.451191  0.622602\n",
       "2 -153.0  1.190304  0.512278  0.623657  0.872781\n",
       "3 -146.0  1.561568  0.633153  0.831689  1.156918\n",
       "4 -121.0  0.793837  0.363163  0.418250  0.569564"
      ]
     },
     "execution_count": 260,
     "metadata": {},
     "output_type": "execute_result"
    }
   ],
   "source": [
    "df_test_adl.head()"
   ]
  },
  {
   "cell_type": "markdown",
   "id": "6efdca08",
   "metadata": {},
   "source": [
    "#### Verificando se todos os exemplos foram corretamente concatenados, checando o número de linhas do df concatenado"
   ]
  },
  {
   "cell_type": "code",
   "execution_count": 261,
   "id": "8bb665f8",
   "metadata": {},
   "outputs": [
    {
     "data": {
      "text/plain": [
       "13524"
      ]
     },
     "execution_count": 261,
     "metadata": {},
     "output_type": "execute_result"
    }
   ],
   "source": [
    "len(df_train_adl)"
   ]
  },
  {
   "cell_type": "code",
   "execution_count": 262,
   "id": "97bb4f02",
   "metadata": {},
   "outputs": [
    {
     "data": {
      "text/plain": [
       "3005"
      ]
     },
     "execution_count": 262,
     "metadata": {},
     "output_type": "execute_result"
    }
   ],
   "source": [
    "len(df_test_adl)"
   ]
  },
  {
   "cell_type": "markdown",
   "id": "9e8471ce",
   "metadata": {},
   "source": [
    "#### Renomeando as colunas de acordo com a documentação do problema"
   ]
  },
  {
   "cell_type": "code",
   "execution_count": 263,
   "id": "6628e8d5",
   "metadata": {},
   "outputs": [],
   "source": [
    "df_train_adl.columns = ['ms_since_beginning','sv_total','Ax','Az','Ay']"
   ]
  },
  {
   "cell_type": "code",
   "execution_count": 264,
   "id": "04279dde",
   "metadata": {},
   "outputs": [
    {
     "data": {
      "text/html": [
       "<div>\n",
       "<style scoped>\n",
       "    .dataframe tbody tr th:only-of-type {\n",
       "        vertical-align: middle;\n",
       "    }\n",
       "\n",
       "    .dataframe tbody tr th {\n",
       "        vertical-align: top;\n",
       "    }\n",
       "\n",
       "    .dataframe thead th {\n",
       "        text-align: right;\n",
       "    }\n",
       "</style>\n",
       "<table border=\"1\" class=\"dataframe\">\n",
       "  <thead>\n",
       "    <tr style=\"text-align: right;\">\n",
       "      <th></th>\n",
       "      <th>ms_since_beginning</th>\n",
       "      <th>sv_total</th>\n",
       "      <th>Ax</th>\n",
       "      <th>Az</th>\n",
       "      <th>Ay</th>\n",
       "    </tr>\n",
       "  </thead>\n",
       "  <tbody>\n",
       "    <tr>\n",
       "      <th>0</th>\n",
       "      <td>0</td>\n",
       "      <td>1.160735</td>\n",
       "      <td>-0.048638</td>\n",
       "      <td>1.149866</td>\n",
       "      <td>-0.150826</td>\n",
       "    </tr>\n",
       "    <tr>\n",
       "      <th>1</th>\n",
       "      <td>31</td>\n",
       "      <td>1.232825</td>\n",
       "      <td>-0.066079</td>\n",
       "      <td>1.221349</td>\n",
       "      <td>-0.154265</td>\n",
       "    </tr>\n",
       "    <tr>\n",
       "      <th>2</th>\n",
       "      <td>46</td>\n",
       "      <td>1.271040</td>\n",
       "      <td>-0.081063</td>\n",
       "      <td>1.259424</td>\n",
       "      <td>-0.151072</td>\n",
       "    </tr>\n",
       "    <tr>\n",
       "      <th>3</th>\n",
       "      <td>62</td>\n",
       "      <td>1.334946</td>\n",
       "      <td>-0.103908</td>\n",
       "      <td>1.315677</td>\n",
       "      <td>-0.200692</td>\n",
       "    </tr>\n",
       "    <tr>\n",
       "      <th>4</th>\n",
       "      <td>93</td>\n",
       "      <td>1.343159</td>\n",
       "      <td>-0.072465</td>\n",
       "      <td>1.311010</td>\n",
       "      <td>-0.282984</td>\n",
       "    </tr>\n",
       "  </tbody>\n",
       "</table>\n",
       "</div>"
      ],
      "text/plain": [
       "   ms_since_beginning  sv_total        Ax        Az        Ay\n",
       "0                   0  1.160735 -0.048638  1.149866 -0.150826\n",
       "1                  31  1.232825 -0.066079  1.221349 -0.154265\n",
       "2                  46  1.271040 -0.081063  1.259424 -0.151072\n",
       "3                  62  1.334946 -0.103908  1.315677 -0.200692\n",
       "4                  93  1.343159 -0.072465  1.311010 -0.282984"
      ]
     },
     "execution_count": 264,
     "metadata": {},
     "output_type": "execute_result"
    }
   ],
   "source": [
    "df_train_adl.head()"
   ]
  },
  {
   "cell_type": "code",
   "execution_count": 265,
   "id": "f20a773f",
   "metadata": {},
   "outputs": [],
   "source": [
    "df_test_adl.columns = ['ms_since_beginning','sv_total','Ax','Az','Ay']"
   ]
  },
  {
   "cell_type": "code",
   "execution_count": 266,
   "id": "bacfea4e",
   "metadata": {},
   "outputs": [
    {
     "data": {
      "text/html": [
       "<div>\n",
       "<style scoped>\n",
       "    .dataframe tbody tr th:only-of-type {\n",
       "        vertical-align: middle;\n",
       "    }\n",
       "\n",
       "    .dataframe tbody tr th {\n",
       "        vertical-align: top;\n",
       "    }\n",
       "\n",
       "    .dataframe thead th {\n",
       "        text-align: right;\n",
       "    }\n",
       "</style>\n",
       "<table border=\"1\" class=\"dataframe\">\n",
       "  <thead>\n",
       "    <tr style=\"text-align: right;\">\n",
       "      <th></th>\n",
       "      <th>ms_since_beginning</th>\n",
       "      <th>sv_total</th>\n",
       "      <th>Ax</th>\n",
       "      <th>Az</th>\n",
       "      <th>Ay</th>\n",
       "    </tr>\n",
       "  </thead>\n",
       "  <tbody>\n",
       "    <tr>\n",
       "      <th>0</th>\n",
       "      <td>-187.0</td>\n",
       "      <td>1.164722</td>\n",
       "      <td>0.508362</td>\n",
       "      <td>0.598458</td>\n",
       "      <td>0.858435</td>\n",
       "    </tr>\n",
       "    <tr>\n",
       "      <th>1</th>\n",
       "      <td>-177.0</td>\n",
       "      <td>0.867221</td>\n",
       "      <td>0.402072</td>\n",
       "      <td>0.451191</td>\n",
       "      <td>0.622602</td>\n",
       "    </tr>\n",
       "    <tr>\n",
       "      <th>2</th>\n",
       "      <td>-153.0</td>\n",
       "      <td>1.190304</td>\n",
       "      <td>0.512278</td>\n",
       "      <td>0.623657</td>\n",
       "      <td>0.872781</td>\n",
       "    </tr>\n",
       "    <tr>\n",
       "      <th>3</th>\n",
       "      <td>-146.0</td>\n",
       "      <td>1.561568</td>\n",
       "      <td>0.633153</td>\n",
       "      <td>0.831689</td>\n",
       "      <td>1.156918</td>\n",
       "    </tr>\n",
       "    <tr>\n",
       "      <th>4</th>\n",
       "      <td>-121.0</td>\n",
       "      <td>0.793837</td>\n",
       "      <td>0.363163</td>\n",
       "      <td>0.418250</td>\n",
       "      <td>0.569564</td>\n",
       "    </tr>\n",
       "  </tbody>\n",
       "</table>\n",
       "</div>"
      ],
      "text/plain": [
       "   ms_since_beginning  sv_total        Ax        Az        Ay\n",
       "0              -187.0  1.164722  0.508362  0.598458  0.858435\n",
       "1              -177.0  0.867221  0.402072  0.451191  0.622602\n",
       "2              -153.0  1.190304  0.512278  0.623657  0.872781\n",
       "3              -146.0  1.561568  0.633153  0.831689  1.156918\n",
       "4              -121.0  0.793837  0.363163  0.418250  0.569564"
      ]
     },
     "execution_count": 266,
     "metadata": {},
     "output_type": "execute_result"
    }
   ],
   "source": [
    "df_test_adl.head()"
   ]
  },
  {
   "cell_type": "markdown",
   "id": "1fee82e9",
   "metadata": {},
   "source": [
    "### 2) Fazer a mesma coisa para os dados de queda (Fall)"
   ]
  },
  {
   "cell_type": "code",
   "execution_count": 267,
   "id": "0c3395b7",
   "metadata": {},
   "outputs": [],
   "source": [
    "path = r'C:\\Users\\menin\\Local Documents\\ML\\Modelagem_UTFPR\\Assignment2\\Fall\\Train' \n",
    "path_test = r'C:\\Users\\menin\\Local Documents\\ML\\Modelagem_UTFPR\\Assignment2\\Fall\\Test' \n",
    "\n",
    "all_files_train = glob.glob(os.path.join(path, \"*.csv\"))\n",
    "all_files_test = glob.glob(os.path.join(path_test, \"*.csv\"))\n",
    "li = []\n",
    "li_test = []\n",
    "\n",
    "for filename in all_files_train:\n",
    "    df = pd.read_csv(filename, index_col=None, header=None)\n",
    "    li.append(df)\n",
    "\n",
    "for filename in all_files_test:\n",
    "    df = pd.read_csv(filename, index_col=None, header=None)\n",
    "    li_test.append(df)\n",
    "    \n",
    "df_train_fall = pd.concat(li, axis=0, ignore_index=True)\n",
    "df_test_fall = pd.concat(li_test, axis=0, ignore_index=True)"
   ]
  },
  {
   "cell_type": "code",
   "execution_count": 268,
   "id": "06b2276e",
   "metadata": {},
   "outputs": [
    {
     "data": {
      "text/html": [
       "<div>\n",
       "<style scoped>\n",
       "    .dataframe tbody tr th:only-of-type {\n",
       "        vertical-align: middle;\n",
       "    }\n",
       "\n",
       "    .dataframe tbody tr th {\n",
       "        vertical-align: top;\n",
       "    }\n",
       "\n",
       "    .dataframe thead th {\n",
       "        text-align: right;\n",
       "    }\n",
       "</style>\n",
       "<table border=\"1\" class=\"dataframe\">\n",
       "  <thead>\n",
       "    <tr style=\"text-align: right;\">\n",
       "      <th></th>\n",
       "      <th>0</th>\n",
       "      <th>1</th>\n",
       "      <th>2</th>\n",
       "      <th>3</th>\n",
       "      <th>4</th>\n",
       "    </tr>\n",
       "  </thead>\n",
       "  <tbody>\n",
       "    <tr>\n",
       "      <th>0</th>\n",
       "      <td>-2</td>\n",
       "      <td>1.024924</td>\n",
       "      <td>0.128718</td>\n",
       "      <td>0.995601</td>\n",
       "      <td>0.206588</td>\n",
       "    </tr>\n",
       "    <tr>\n",
       "      <th>1</th>\n",
       "      <td>30</td>\n",
       "      <td>1.003218</td>\n",
       "      <td>0.166793</td>\n",
       "      <td>0.974967</td>\n",
       "      <td>0.167530</td>\n",
       "    </tr>\n",
       "    <tr>\n",
       "      <th>2</th>\n",
       "      <td>61</td>\n",
       "      <td>1.022040</td>\n",
       "      <td>0.175391</td>\n",
       "      <td>0.991916</td>\n",
       "      <td>0.172934</td>\n",
       "    </tr>\n",
       "    <tr>\n",
       "      <th>3</th>\n",
       "      <td>65</td>\n",
       "      <td>1.028459</td>\n",
       "      <td>0.152300</td>\n",
       "      <td>1.002479</td>\n",
       "      <td>0.171952</td>\n",
       "    </tr>\n",
       "    <tr>\n",
       "      <th>4</th>\n",
       "      <td>94</td>\n",
       "      <td>1.006250</td>\n",
       "      <td>0.139035</td>\n",
       "      <td>0.979880</td>\n",
       "      <td>0.181778</td>\n",
       "    </tr>\n",
       "  </tbody>\n",
       "</table>\n",
       "</div>"
      ],
      "text/plain": [
       "    0         1         2         3         4\n",
       "0  -2  1.024924  0.128718  0.995601  0.206588\n",
       "1  30  1.003218  0.166793  0.974967  0.167530\n",
       "2  61  1.022040  0.175391  0.991916  0.172934\n",
       "3  65  1.028459  0.152300  1.002479  0.171952\n",
       "4  94  1.006250  0.139035  0.979880  0.181778"
      ]
     },
     "execution_count": 268,
     "metadata": {},
     "output_type": "execute_result"
    }
   ],
   "source": [
    "df_train_fall.head()"
   ]
  },
  {
   "cell_type": "code",
   "execution_count": 269,
   "id": "23119cff",
   "metadata": {},
   "outputs": [
    {
     "data": {
      "text/html": [
       "<div>\n",
       "<style scoped>\n",
       "    .dataframe tbody tr th:only-of-type {\n",
       "        vertical-align: middle;\n",
       "    }\n",
       "\n",
       "    .dataframe tbody tr th {\n",
       "        vertical-align: top;\n",
       "    }\n",
       "\n",
       "    .dataframe thead th {\n",
       "        text-align: right;\n",
       "    }\n",
       "</style>\n",
       "<table border=\"1\" class=\"dataframe\">\n",
       "  <thead>\n",
       "    <tr style=\"text-align: right;\">\n",
       "      <th></th>\n",
       "      <th>0</th>\n",
       "      <th>1</th>\n",
       "      <th>2</th>\n",
       "      <th>3</th>\n",
       "      <th>4</th>\n",
       "    </tr>\n",
       "  </thead>\n",
       "  <tbody>\n",
       "    <tr>\n",
       "      <th>0</th>\n",
       "      <td>5.0</td>\n",
       "      <td>1.366855</td>\n",
       "      <td>-0.684301</td>\n",
       "      <td>0.785951</td>\n",
       "      <td>0.040738</td>\n",
       "    </tr>\n",
       "    <tr>\n",
       "      <th>1</th>\n",
       "      <td>21.0</td>\n",
       "      <td>0.977008</td>\n",
       "      <td>-0.923348</td>\n",
       "      <td>0.550218</td>\n",
       "      <td>-0.114537</td>\n",
       "    </tr>\n",
       "    <tr>\n",
       "      <th>2</th>\n",
       "      <td>38.0</td>\n",
       "      <td>1.438821</td>\n",
       "      <td>-0.608400</td>\n",
       "      <td>0.838917</td>\n",
       "      <td>0.126488</td>\n",
       "    </tr>\n",
       "    <tr>\n",
       "      <th>3</th>\n",
       "      <td>54.0</td>\n",
       "      <td>1.984782</td>\n",
       "      <td>-0.269010</td>\n",
       "      <td>1.197440</td>\n",
       "      <td>0.379095</td>\n",
       "    </tr>\n",
       "    <tr>\n",
       "      <th>4</th>\n",
       "      <td>76.0</td>\n",
       "      <td>0.917805</td>\n",
       "      <td>-0.959406</td>\n",
       "      <td>0.518595</td>\n",
       "      <td>-0.073812</td>\n",
       "    </tr>\n",
       "  </tbody>\n",
       "</table>\n",
       "</div>"
      ],
      "text/plain": [
       "      0         1         2         3         4\n",
       "0   5.0  1.366855 -0.684301  0.785951  0.040738\n",
       "1  21.0  0.977008 -0.923348  0.550218 -0.114537\n",
       "2  38.0  1.438821 -0.608400  0.838917  0.126488\n",
       "3  54.0  1.984782 -0.269010  1.197440  0.379095\n",
       "4  76.0  0.917805 -0.959406  0.518595 -0.073812"
      ]
     },
     "execution_count": 269,
     "metadata": {},
     "output_type": "execute_result"
    }
   ],
   "source": [
    "df_test_fall.head()"
   ]
  },
  {
   "cell_type": "code",
   "execution_count": 270,
   "id": "1a11c1f0",
   "metadata": {},
   "outputs": [],
   "source": [
    "df_train_fall.columns = ['ms_since_beginning','sv_total','Ax','Az','Ay']\n",
    "df_test_fall.columns = ['ms_since_beginning','sv_total','Ax','Az','Ay']"
   ]
  },
  {
   "cell_type": "code",
   "execution_count": 271,
   "id": "104bc04b",
   "metadata": {},
   "outputs": [
    {
     "data": {
      "text/html": [
       "<div>\n",
       "<style scoped>\n",
       "    .dataframe tbody tr th:only-of-type {\n",
       "        vertical-align: middle;\n",
       "    }\n",
       "\n",
       "    .dataframe tbody tr th {\n",
       "        vertical-align: top;\n",
       "    }\n",
       "\n",
       "    .dataframe thead th {\n",
       "        text-align: right;\n",
       "    }\n",
       "</style>\n",
       "<table border=\"1\" class=\"dataframe\">\n",
       "  <thead>\n",
       "    <tr style=\"text-align: right;\">\n",
       "      <th></th>\n",
       "      <th>ms_since_beginning</th>\n",
       "      <th>sv_total</th>\n",
       "      <th>Ax</th>\n",
       "      <th>Az</th>\n",
       "      <th>Ay</th>\n",
       "    </tr>\n",
       "  </thead>\n",
       "  <tbody>\n",
       "    <tr>\n",
       "      <th>0</th>\n",
       "      <td>-2</td>\n",
       "      <td>1.024924</td>\n",
       "      <td>0.128718</td>\n",
       "      <td>0.995601</td>\n",
       "      <td>0.206588</td>\n",
       "    </tr>\n",
       "    <tr>\n",
       "      <th>1</th>\n",
       "      <td>30</td>\n",
       "      <td>1.003218</td>\n",
       "      <td>0.166793</td>\n",
       "      <td>0.974967</td>\n",
       "      <td>0.167530</td>\n",
       "    </tr>\n",
       "    <tr>\n",
       "      <th>2</th>\n",
       "      <td>61</td>\n",
       "      <td>1.022040</td>\n",
       "      <td>0.175391</td>\n",
       "      <td>0.991916</td>\n",
       "      <td>0.172934</td>\n",
       "    </tr>\n",
       "    <tr>\n",
       "      <th>3</th>\n",
       "      <td>65</td>\n",
       "      <td>1.028459</td>\n",
       "      <td>0.152300</td>\n",
       "      <td>1.002479</td>\n",
       "      <td>0.171952</td>\n",
       "    </tr>\n",
       "    <tr>\n",
       "      <th>4</th>\n",
       "      <td>94</td>\n",
       "      <td>1.006250</td>\n",
       "      <td>0.139035</td>\n",
       "      <td>0.979880</td>\n",
       "      <td>0.181778</td>\n",
       "    </tr>\n",
       "  </tbody>\n",
       "</table>\n",
       "</div>"
      ],
      "text/plain": [
       "   ms_since_beginning  sv_total        Ax        Az        Ay\n",
       "0                  -2  1.024924  0.128718  0.995601  0.206588\n",
       "1                  30  1.003218  0.166793  0.974967  0.167530\n",
       "2                  61  1.022040  0.175391  0.991916  0.172934\n",
       "3                  65  1.028459  0.152300  1.002479  0.171952\n",
       "4                  94  1.006250  0.139035  0.979880  0.181778"
      ]
     },
     "execution_count": 271,
     "metadata": {},
     "output_type": "execute_result"
    }
   ],
   "source": [
    "df_train_fall.head()"
   ]
  },
  {
   "cell_type": "code",
   "execution_count": 272,
   "id": "b8a48927",
   "metadata": {},
   "outputs": [
    {
     "data": {
      "text/html": [
       "<div>\n",
       "<style scoped>\n",
       "    .dataframe tbody tr th:only-of-type {\n",
       "        vertical-align: middle;\n",
       "    }\n",
       "\n",
       "    .dataframe tbody tr th {\n",
       "        vertical-align: top;\n",
       "    }\n",
       "\n",
       "    .dataframe thead th {\n",
       "        text-align: right;\n",
       "    }\n",
       "</style>\n",
       "<table border=\"1\" class=\"dataframe\">\n",
       "  <thead>\n",
       "    <tr style=\"text-align: right;\">\n",
       "      <th></th>\n",
       "      <th>ms_since_beginning</th>\n",
       "      <th>sv_total</th>\n",
       "      <th>Ax</th>\n",
       "      <th>Az</th>\n",
       "      <th>Ay</th>\n",
       "    </tr>\n",
       "  </thead>\n",
       "  <tbody>\n",
       "    <tr>\n",
       "      <th>0</th>\n",
       "      <td>5.0</td>\n",
       "      <td>1.366855</td>\n",
       "      <td>-0.684301</td>\n",
       "      <td>0.785951</td>\n",
       "      <td>0.040738</td>\n",
       "    </tr>\n",
       "    <tr>\n",
       "      <th>1</th>\n",
       "      <td>21.0</td>\n",
       "      <td>0.977008</td>\n",
       "      <td>-0.923348</td>\n",
       "      <td>0.550218</td>\n",
       "      <td>-0.114537</td>\n",
       "    </tr>\n",
       "    <tr>\n",
       "      <th>2</th>\n",
       "      <td>38.0</td>\n",
       "      <td>1.438821</td>\n",
       "      <td>-0.608400</td>\n",
       "      <td>0.838917</td>\n",
       "      <td>0.126488</td>\n",
       "    </tr>\n",
       "    <tr>\n",
       "      <th>3</th>\n",
       "      <td>54.0</td>\n",
       "      <td>1.984782</td>\n",
       "      <td>-0.269010</td>\n",
       "      <td>1.197440</td>\n",
       "      <td>0.379095</td>\n",
       "    </tr>\n",
       "    <tr>\n",
       "      <th>4</th>\n",
       "      <td>76.0</td>\n",
       "      <td>0.917805</td>\n",
       "      <td>-0.959406</td>\n",
       "      <td>0.518595</td>\n",
       "      <td>-0.073812</td>\n",
       "    </tr>\n",
       "  </tbody>\n",
       "</table>\n",
       "</div>"
      ],
      "text/plain": [
       "   ms_since_beginning  sv_total        Ax        Az        Ay\n",
       "0                 5.0  1.366855 -0.684301  0.785951  0.040738\n",
       "1                21.0  0.977008 -0.923348  0.550218 -0.114537\n",
       "2                38.0  1.438821 -0.608400  0.838917  0.126488\n",
       "3                54.0  1.984782 -0.269010  1.197440  0.379095\n",
       "4                76.0  0.917805 -0.959406  0.518595 -0.073812"
      ]
     },
     "execution_count": 272,
     "metadata": {},
     "output_type": "execute_result"
    }
   ],
   "source": [
    "df_test_fall.head()"
   ]
  },
  {
   "cell_type": "markdown",
   "id": "a8d9845a",
   "metadata": {},
   "source": [
    "### 3) Visualizar alguns dos sinais dos datasets"
   ]
  },
  {
   "cell_type": "code",
   "execution_count": 273,
   "id": "f5a0938c",
   "metadata": {},
   "outputs": [],
   "source": [
    "import matplotlib.pyplot as plt\n",
    "import numpy as np"
   ]
  },
  {
   "cell_type": "markdown",
   "id": "195434dd",
   "metadata": {},
   "source": [
    "#### Começando por um scatter plot das variáveis SV_total, Ax, Az, Ay pelo tempo do dataset de treino ADL/Fall, plotando ADL e Fall um ao lado do outro para fins de comparação"
   ]
  },
  {
   "cell_type": "code",
   "execution_count": 274,
   "id": "e2d3d430",
   "metadata": {},
   "outputs": [],
   "source": [
    "def scatter_plot(ax, x, y, xlabel, ylabel,color,fontsize=12):\n",
    "    ax.scatter(x,y,c=color)\n",
    "    ax.set_xlabel(xlabel, fontsize=fontsize)\n",
    "    ax.set_ylabel(ylabel, fontsize=fontsize)\n",
    "\n",
    "def plot_scatter_data(df1,df2):\n",
    "    fig, ((ax1, ax5), (ax2, ax6), (ax3, ax7), (ax4, ax8)) = plt.subplots(nrows=4, ncols=2,figsize=(10,7))\n",
    "    scatter_plot(ax1,df1['ms_since_beginning'], df1['sv_total'],'ms since beginning','SV_total_ADL','r')\n",
    "    scatter_plot(ax2,df1['ms_since_beginning'], df1['Ax'],'ms since beginning','Ax_ADL','b')\n",
    "    scatter_plot(ax3,df1['ms_since_beginning'], df1['Az'],'ms since beginning',\"Az_ADL\",'g')\n",
    "    scatter_plot(ax4,df1['ms_since_beginning'], df1['Ay'],'ms since beginning','Ay_ADL','c')\n",
    "    scatter_plot(ax5,df2['ms_since_beginning'], df2['sv_total'],'ms since beginning','SV_total_Fall','r')\n",
    "    scatter_plot(ax6,df2['ms_since_beginning'], df2['Ax'],'ms since beginning','Ax_Fall','b')\n",
    "    scatter_plot(ax7,df2['ms_since_beginning'], df2['Az'],'ms since beginning',\"Az_Fall\",'g')\n",
    "    scatter_plot(ax8,df2['ms_since_beginning'], df2['Ay'],'ms since beginning','Ay_Fall','c')"
   ]
  },
  {
   "cell_type": "markdown",
   "id": "b9f4785e",
   "metadata": {},
   "source": [
    "### Train"
   ]
  },
  {
   "cell_type": "code",
   "execution_count": 275,
   "id": "330f2ae4",
   "metadata": {},
   "outputs": [
    {
     "data": {
      "image/png": "[encoded data removed]",
      "text/plain": [
       "<Figure size 720x504 with 8 Axes>"
      ]
     },
     "metadata": {
      "needs_background": "light"
     },
     "output_type": "display_data"
    }
   ],
   "source": [
    "plot_scatter_data(df_train_adl,df_train_fall)\n",
    "plt.tight_layout()"
   ]
  },
  {
   "cell_type": "markdown",
   "id": "64d19d25",
   "metadata": {},
   "source": [
    "### Test"
   ]
  },
  {
   "cell_type": "code",
   "execution_count": 276,
   "id": "b9d9de70",
   "metadata": {},
   "outputs": [
    {
     "data": {
      "image/png": "[encoded data removed]",
      "text/plain": [
       "<Figure size 720x504 with 8 Axes>"
      ]
     },
     "metadata": {
      "needs_background": "light"
     },
     "output_type": "display_data"
    }
   ],
   "source": [
    "plot_scatter_data(df_test_adl,df_test_fall)\n",
    "plt.tight_layout()"
   ]
  },
  {
   "cell_type": "markdown",
   "id": "d0871df6",
   "metadata": {},
   "source": [
    "### Algumas conclusões:\n",
    "### Visualmente, o desvio padrão para ADL e Fall é diferente. Para ADL, parece ser maior. Isso tanto para treino quanto para teste.\n",
    "### Também vemos que existem alguns pontos com tempo \"negativo\" nos plots do lado esquerdo do ADL train. Esses podem ser considerados outliers no dataset. Vamos removê-los posteriormente e plotar novamente\n",
    "### Além do tempo \"negativo\", existem outliers espalhados em todos os datasets. Tentaremos também removê-los."
   ]
  },
  {
   "cell_type": "markdown",
   "id": "449550bb",
   "metadata": {},
   "source": [
    "#### Removendo os registros com tempo \"negativo\""
   ]
  },
  {
   "cell_type": "code",
   "execution_count": 277,
   "id": "c1757ee8",
   "metadata": {},
   "outputs": [],
   "source": [
    "df_train_adl = df_train_adl[df_train_adl['ms_since_beginning'] >= 0]"
   ]
  },
  {
   "cell_type": "code",
   "execution_count": 278,
   "id": "145cd60a",
   "metadata": {},
   "outputs": [],
   "source": [
    "df_train_fall = df_train_fall[df_train_fall['ms_since_beginning'] >= 0]"
   ]
  },
  {
   "cell_type": "code",
   "execution_count": 279,
   "id": "88c20115",
   "metadata": {},
   "outputs": [],
   "source": [
    "df_test_adl = df_test_adl[df_test_adl['ms_since_beginning'] >= 0]"
   ]
  },
  {
   "cell_type": "code",
   "execution_count": 280,
   "id": "c323a106",
   "metadata": {},
   "outputs": [],
   "source": [
    "df_test_fall = df_test_fall[df_test_fall['ms_since_beginning'] >= 0]"
   ]
  },
  {
   "cell_type": "markdown",
   "id": "62382153",
   "metadata": {},
   "source": [
    "### Para melhor visualizar os outliers, vamos utilizar o Boxplot"
   ]
  },
  {
   "cell_type": "code",
   "execution_count": 281,
   "id": "e6a1f0cf",
   "metadata": {},
   "outputs": [],
   "source": [
    "def box_plot(ax, data, column_name):\n",
    "    sns.boxplot(ax=ax,data=data,y=column_name)\n",
    "\n",
    "def plot_box_data(df,title):\n",
    "    fig, ((ax1, ax2), (ax3, ax4)) = plt.subplots(nrows=2, ncols=2,figsize=(10,7))\n",
    "    ax1.title.set_text('SV Total ' + title)\n",
    "    ax2.title.set_text('Ax ' + title)\n",
    "    ax3.title.set_text('Az ' + title)\n",
    "    ax4.title.set_text('Ay ' + title)\n",
    "    box_plot(ax1,df, 'sv_total')\n",
    "    box_plot(ax2,df, 'Ax')\n",
    "    box_plot(ax3,df, 'Az')\n",
    "    box_plot(ax4,df, 'Ay')"
   ]
  },
  {
   "cell_type": "markdown",
   "id": "2f8a507f",
   "metadata": {},
   "source": [
    "### Boxplot for ADL Train"
   ]
  },
  {
   "cell_type": "code",
   "execution_count": 282,
   "id": "31123da5",
   "metadata": {},
   "outputs": [
    {
     "data": {
      "image/png": "[encoded data removed]",
      "text/plain": [
       "<Figure size 720x504 with 4 Axes>"
      ]
     },
     "metadata": {
      "needs_background": "light"
     },
     "output_type": "display_data"
    }
   ],
   "source": [
    "plot_box_data(df_train_adl, \"ADL train\")"
   ]
  },
  {
   "cell_type": "markdown",
   "id": "9ed7d68a",
   "metadata": {},
   "source": [
    "### Boxplot for Fall train"
   ]
  },
  {
   "cell_type": "code",
   "execution_count": 283,
   "id": "11138904",
   "metadata": {},
   "outputs": [
    {
     "data": {
      "image/png": "[encoded data removed]",
      "text/plain": [
       "<Figure size 720x504 with 4 Axes>"
      ]
     },
     "metadata": {
      "needs_background": "light"
     },
     "output_type": "display_data"
    }
   ],
   "source": [
    "plot_box_data(df_train_fall,\"Fall train\")"
   ]
  },
  {
   "cell_type": "markdown",
   "id": "95f53f28",
   "metadata": {},
   "source": [
    "### Boxplot for ADL Test"
   ]
  },
  {
   "cell_type": "code",
   "execution_count": 284,
   "id": "08029cd5",
   "metadata": {},
   "outputs": [
    {
     "data": {
      "image/png": "[encoded data removed]",
      "text/plain": [
       "<Figure size 720x504 with 4 Axes>"
      ]
     },
     "metadata": {
      "needs_background": "light"
     },
     "output_type": "display_data"
    }
   ],
   "source": [
    "plot_box_data(df_test_adl,\"ADL Test\")"
   ]
  },
  {
   "cell_type": "markdown",
   "id": "c9dc729a",
   "metadata": {},
   "source": [
    "### Boxplot for Fall test"
   ]
  },
  {
   "cell_type": "code",
   "execution_count": 285,
   "id": "8ef07fbf",
   "metadata": {},
   "outputs": [
    {
     "data": {
      "image/png": "[encoded data removed]",
      "text/plain": [
       "<Figure size 720x504 with 4 Axes>"
      ]
     },
     "metadata": {
      "needs_background": "light"
     },
     "output_type": "display_data"
    }
   ],
   "source": [
    "plot_box_data(df_test_fall,\"Fall Test\")"
   ]
  },
  {
   "cell_type": "markdown",
   "id": "e2cfdd87",
   "metadata": {},
   "source": [
    "### 4) Remover os outliers"
   ]
  },
  {
   "cell_type": "code",
   "execution_count": 286,
   "id": "7e43f152",
   "metadata": {},
   "outputs": [],
   "source": [
    "def remove_outliers(df):\n",
    "    for x in ['sv_total','Ax','Az','Ay']:\n",
    "        q75,q25 = np.percentile(df.loc[:,x],[75,25])\n",
    "        intr_qr = q75-q25\n",
    "\n",
    "        max_value = q75+(1.5*intr_qr)\n",
    "        min_value = q25-(1.5*intr_qr)\n",
    "\n",
    "        df.loc[df[x] < min_value,x] = np.nan\n",
    "        df.loc[df[x] > max_value,x] = np.nan"
   ]
  },
  {
   "cell_type": "code",
   "execution_count": 287,
   "id": "84e26454",
   "metadata": {},
   "outputs": [],
   "source": [
    "remove_outliers(df_train_adl)\n",
    "remove_outliers(df_test_adl)\n",
    "remove_outliers(df_train_fall)\n",
    "remove_outliers(df_test_fall)"
   ]
  },
  {
   "cell_type": "markdown",
   "id": "c33ad4e7",
   "metadata": {},
   "source": [
    "### Plotar novamente o boxplot, agora sem os outliers"
   ]
  },
  {
   "cell_type": "code",
   "execution_count": 288,
   "id": "600a4438",
   "metadata": {},
   "outputs": [
    {
     "data": {
      "image/png": "[encoded data removed]",
      "text/plain": [
       "<Figure size 720x504 with 4 Axes>"
      ]
     },
     "metadata": {
      "needs_background": "light"
     },
     "output_type": "display_data"
    }
   ],
   "source": [
    "plot_box_data(df_train_adl, \"ADL train\")"
   ]
  },
  {
   "cell_type": "code",
   "execution_count": 289,
   "id": "9010ebb3",
   "metadata": {},
   "outputs": [
    {
     "data": {
      "image/png": "[encoded data removed]",
      "text/plain": [
       "<Figure size 720x504 with 4 Axes>"
      ]
     },
     "metadata": {
      "needs_background": "light"
     },
     "output_type": "display_data"
    }
   ],
   "source": [
    "plot_box_data(df_test_adl, \"ADL test\")"
   ]
  },
  {
   "cell_type": "code",
   "execution_count": 290,
   "id": "ec437cb4",
   "metadata": {},
   "outputs": [
    {
     "data": {
      "image/png": "[encoded data removed]",
      "text/plain": [
       "<Figure size 720x504 with 4 Axes>"
      ]
     },
     "metadata": {
      "needs_background": "light"
     },
     "output_type": "display_data"
    }
   ],
   "source": [
    "plot_box_data(df_train_fall, \"Fall Train\")"
   ]
  },
  {
   "cell_type": "code",
   "execution_count": 291,
   "id": "7bf9ca7b",
   "metadata": {},
   "outputs": [
    {
     "data": {
      "image/png": "[encoded data removed]",
      "text/plain": [
       "<Figure size 720x504 with 4 Axes>"
      ]
     },
     "metadata": {
      "needs_background": "light"
     },
     "output_type": "display_data"
    }
   ],
   "source": [
    "plot_box_data(df_test_fall, \"Fall Test\")"
   ]
  },
  {
   "cell_type": "code",
   "execution_count": 292,
   "id": "b88d4954",
   "metadata": {},
   "outputs": [
    {
     "data": {
      "text/html": [
       "<div>\n",
       "<style scoped>\n",
       "    .dataframe tbody tr th:only-of-type {\n",
       "        vertical-align: middle;\n",
       "    }\n",
       "\n",
       "    .dataframe tbody tr th {\n",
       "        vertical-align: top;\n",
       "    }\n",
       "\n",
       "    .dataframe thead th {\n",
       "        text-align: right;\n",
       "    }\n",
       "</style>\n",
       "<table border=\"1\" class=\"dataframe\">\n",
       "  <thead>\n",
       "    <tr style=\"text-align: right;\">\n",
       "      <th></th>\n",
       "      <th>ms_since_beginning</th>\n",
       "      <th>sv_total</th>\n",
       "      <th>Ax</th>\n",
       "      <th>Az</th>\n",
       "      <th>Ay</th>\n",
       "    </tr>\n",
       "  </thead>\n",
       "  <tbody>\n",
       "    <tr>\n",
       "      <th>0</th>\n",
       "      <td>0</td>\n",
       "      <td>1.160735</td>\n",
       "      <td>-0.048638</td>\n",
       "      <td>1.149866</td>\n",
       "      <td>-0.150826</td>\n",
       "    </tr>\n",
       "    <tr>\n",
       "      <th>1</th>\n",
       "      <td>31</td>\n",
       "      <td>1.232825</td>\n",
       "      <td>-0.066079</td>\n",
       "      <td>1.221349</td>\n",
       "      <td>-0.154265</td>\n",
       "    </tr>\n",
       "    <tr>\n",
       "      <th>2</th>\n",
       "      <td>46</td>\n",
       "      <td>1.271040</td>\n",
       "      <td>-0.081063</td>\n",
       "      <td>1.259424</td>\n",
       "      <td>-0.151072</td>\n",
       "    </tr>\n",
       "    <tr>\n",
       "      <th>3</th>\n",
       "      <td>62</td>\n",
       "      <td>NaN</td>\n",
       "      <td>-0.103908</td>\n",
       "      <td>1.315677</td>\n",
       "      <td>-0.200692</td>\n",
       "    </tr>\n",
       "    <tr>\n",
       "      <th>4</th>\n",
       "      <td>93</td>\n",
       "      <td>NaN</td>\n",
       "      <td>-0.072465</td>\n",
       "      <td>1.311010</td>\n",
       "      <td>-0.282984</td>\n",
       "    </tr>\n",
       "  </tbody>\n",
       "</table>\n",
       "</div>"
      ],
      "text/plain": [
       "   ms_since_beginning  sv_total        Ax        Az        Ay\n",
       "0                   0  1.160735 -0.048638  1.149866 -0.150826\n",
       "1                  31  1.232825 -0.066079  1.221349 -0.154265\n",
       "2                  46  1.271040 -0.081063  1.259424 -0.151072\n",
       "3                  62       NaN -0.103908  1.315677 -0.200692\n",
       "4                  93       NaN -0.072465  1.311010 -0.282984"
      ]
     },
     "execution_count": 292,
     "metadata": {},
     "output_type": "execute_result"
    }
   ],
   "source": [
    "df_train_adl.head()"
   ]
  },
  {
   "cell_type": "code",
   "execution_count": 293,
   "id": "3c80a058",
   "metadata": {},
   "outputs": [],
   "source": [
    "df_train_adl.dropna(inplace=True)\n",
    "df_test_adl.dropna(inplace=True)\n",
    "df_train_fall.dropna(inplace=True)\n",
    "df_test_fall.dropna(inplace=True)"
   ]
  },
  {
   "cell_type": "code",
   "execution_count": 294,
   "id": "ac3dbce2",
   "metadata": {},
   "outputs": [
    {
     "data": {
      "text/html": [
       "<div>\n",
       "<style scoped>\n",
       "    .dataframe tbody tr th:only-of-type {\n",
       "        vertical-align: middle;\n",
       "    }\n",
       "\n",
       "    .dataframe tbody tr th {\n",
       "        vertical-align: top;\n",
       "    }\n",
       "\n",
       "    .dataframe thead th {\n",
       "        text-align: right;\n",
       "    }\n",
       "</style>\n",
       "<table border=\"1\" class=\"dataframe\">\n",
       "  <thead>\n",
       "    <tr style=\"text-align: right;\">\n",
       "      <th></th>\n",
       "      <th>ms_since_beginning</th>\n",
       "      <th>sv_total</th>\n",
       "      <th>Ax</th>\n",
       "      <th>Az</th>\n",
       "      <th>Ay</th>\n",
       "    </tr>\n",
       "  </thead>\n",
       "  <tbody>\n",
       "    <tr>\n",
       "      <th>0</th>\n",
       "      <td>0</td>\n",
       "      <td>1.160735</td>\n",
       "      <td>-0.048638</td>\n",
       "      <td>1.149866</td>\n",
       "      <td>-0.150826</td>\n",
       "    </tr>\n",
       "    <tr>\n",
       "      <th>1</th>\n",
       "      <td>31</td>\n",
       "      <td>1.232825</td>\n",
       "      <td>-0.066079</td>\n",
       "      <td>1.221349</td>\n",
       "      <td>-0.154265</td>\n",
       "    </tr>\n",
       "    <tr>\n",
       "      <th>2</th>\n",
       "      <td>46</td>\n",
       "      <td>1.271040</td>\n",
       "      <td>-0.081063</td>\n",
       "      <td>1.259424</td>\n",
       "      <td>-0.151072</td>\n",
       "    </tr>\n",
       "    <tr>\n",
       "      <th>5</th>\n",
       "      <td>124</td>\n",
       "      <td>1.277563</td>\n",
       "      <td>-0.037338</td>\n",
       "      <td>1.229701</td>\n",
       "      <td>-0.344395</td>\n",
       "    </tr>\n",
       "    <tr>\n",
       "      <th>6</th>\n",
       "      <td>140</td>\n",
       "      <td>1.198773</td>\n",
       "      <td>-0.003930</td>\n",
       "      <td>1.138812</td>\n",
       "      <td>-0.374364</td>\n",
       "    </tr>\n",
       "  </tbody>\n",
       "</table>\n",
       "</div>"
      ],
      "text/plain": [
       "   ms_since_beginning  sv_total        Ax        Az        Ay\n",
       "0                   0  1.160735 -0.048638  1.149866 -0.150826\n",
       "1                  31  1.232825 -0.066079  1.221349 -0.154265\n",
       "2                  46  1.271040 -0.081063  1.259424 -0.151072\n",
       "5                 124  1.277563 -0.037338  1.229701 -0.344395\n",
       "6                 140  1.198773 -0.003930  1.138812 -0.374364"
      ]
     },
     "execution_count": 294,
     "metadata": {},
     "output_type": "execute_result"
    }
   ],
   "source": [
    "df_train_adl.head()"
   ]
  },
  {
   "cell_type": "code",
   "execution_count": 295,
   "id": "067601d2",
   "metadata": {},
   "outputs": [],
   "source": [
    "df_train_adl.reset_index(inplace=True,drop=True)\n",
    "df_test_adl.reset_index(inplace=True,drop=True)\n",
    "df_train_fall.reset_index(inplace=True,drop=True)\n",
    "df_test_fall.reset_index(inplace=True,drop=True)"
   ]
  },
  {
   "cell_type": "code",
   "execution_count": 296,
   "id": "e5d0af51",
   "metadata": {},
   "outputs": [
    {
     "data": {
      "text/html": [
       "<div>\n",
       "<style scoped>\n",
       "    .dataframe tbody tr th:only-of-type {\n",
       "        vertical-align: middle;\n",
       "    }\n",
       "\n",
       "    .dataframe tbody tr th {\n",
       "        vertical-align: top;\n",
       "    }\n",
       "\n",
       "    .dataframe thead th {\n",
       "        text-align: right;\n",
       "    }\n",
       "</style>\n",
       "<table border=\"1\" class=\"dataframe\">\n",
       "  <thead>\n",
       "    <tr style=\"text-align: right;\">\n",
       "      <th></th>\n",
       "      <th>ms_since_beginning</th>\n",
       "      <th>sv_total</th>\n",
       "      <th>Ax</th>\n",
       "      <th>Az</th>\n",
       "      <th>Ay</th>\n",
       "    </tr>\n",
       "  </thead>\n",
       "  <tbody>\n",
       "    <tr>\n",
       "      <th>0</th>\n",
       "      <td>0</td>\n",
       "      <td>1.160735</td>\n",
       "      <td>-0.048638</td>\n",
       "      <td>1.149866</td>\n",
       "      <td>-0.150826</td>\n",
       "    </tr>\n",
       "    <tr>\n",
       "      <th>1</th>\n",
       "      <td>31</td>\n",
       "      <td>1.232825</td>\n",
       "      <td>-0.066079</td>\n",
       "      <td>1.221349</td>\n",
       "      <td>-0.154265</td>\n",
       "    </tr>\n",
       "    <tr>\n",
       "      <th>2</th>\n",
       "      <td>46</td>\n",
       "      <td>1.271040</td>\n",
       "      <td>-0.081063</td>\n",
       "      <td>1.259424</td>\n",
       "      <td>-0.151072</td>\n",
       "    </tr>\n",
       "    <tr>\n",
       "      <th>3</th>\n",
       "      <td>124</td>\n",
       "      <td>1.277563</td>\n",
       "      <td>-0.037338</td>\n",
       "      <td>1.229701</td>\n",
       "      <td>-0.344395</td>\n",
       "    </tr>\n",
       "    <tr>\n",
       "      <th>4</th>\n",
       "      <td>140</td>\n",
       "      <td>1.198773</td>\n",
       "      <td>-0.003930</td>\n",
       "      <td>1.138812</td>\n",
       "      <td>-0.374364</td>\n",
       "    </tr>\n",
       "  </tbody>\n",
       "</table>\n",
       "</div>"
      ],
      "text/plain": [
       "   ms_since_beginning  sv_total        Ax        Az        Ay\n",
       "0                   0  1.160735 -0.048638  1.149866 -0.150826\n",
       "1                  31  1.232825 -0.066079  1.221349 -0.154265\n",
       "2                  46  1.271040 -0.081063  1.259424 -0.151072\n",
       "3                 124  1.277563 -0.037338  1.229701 -0.344395\n",
       "4                 140  1.198773 -0.003930  1.138812 -0.374364"
      ]
     },
     "execution_count": 296,
     "metadata": {},
     "output_type": "execute_result"
    }
   ],
   "source": [
    "df_train_adl.head()"
   ]
  },
  {
   "cell_type": "markdown",
   "id": "18f3e581",
   "metadata": {},
   "source": [
    "### Bem melhor! :)"
   ]
  },
  {
   "cell_type": "markdown",
   "id": "1a957127",
   "metadata": {},
   "source": [
    "### 5) Criar novas features a partir das existentes"
   ]
  },
  {
   "cell_type": "markdown",
   "id": "f7412df5",
   "metadata": {},
   "source": [
    "#### Trabalharemos com a média, o desvio padrão, o valor máximo e o valor eficaz (rms) dos valores dos eixos de cada exemplo"
   ]
  },
  {
   "cell_type": "markdown",
   "id": "4e954260",
   "metadata": {},
   "source": [
    "#### Média (Average)"
   ]
  },
  {
   "cell_type": "code",
   "execution_count": 297,
   "id": "a3eac28d",
   "metadata": {},
   "outputs": [],
   "source": [
    "def calc_avg(df):\n",
    "    for i in range(len(df)):\n",
    "        df.loc[i,'Avg_A'] = np.average([df.loc[i,'Ax'],df.loc[i,'Az'],df.loc[i,'Ay']])"
   ]
  },
  {
   "cell_type": "code",
   "execution_count": 298,
   "id": "27d4a3d8",
   "metadata": {},
   "outputs": [],
   "source": [
    "calc_avg(df_train_adl)"
   ]
  },
  {
   "cell_type": "code",
   "execution_count": 299,
   "id": "70e19474",
   "metadata": {},
   "outputs": [
    {
     "data": {
      "text/html": [
       "<div>\n",
       "<style scoped>\n",
       "    .dataframe tbody tr th:only-of-type {\n",
       "        vertical-align: middle;\n",
       "    }\n",
       "\n",
       "    .dataframe tbody tr th {\n",
       "        vertical-align: top;\n",
       "    }\n",
       "\n",
       "    .dataframe thead th {\n",
       "        text-align: right;\n",
       "    }\n",
       "</style>\n",
       "<table border=\"1\" class=\"dataframe\">\n",
       "  <thead>\n",
       "    <tr style=\"text-align: right;\">\n",
       "      <th></th>\n",
       "      <th>ms_since_beginning</th>\n",
       "      <th>sv_total</th>\n",
       "      <th>Ax</th>\n",
       "      <th>Az</th>\n",
       "      <th>Ay</th>\n",
       "      <th>Avg_A</th>\n",
       "    </tr>\n",
       "  </thead>\n",
       "  <tbody>\n",
       "    <tr>\n",
       "      <th>0</th>\n",
       "      <td>0</td>\n",
       "      <td>1.160735</td>\n",
       "      <td>-0.048638</td>\n",
       "      <td>1.149866</td>\n",
       "      <td>-0.150826</td>\n",
       "      <td>0.316801</td>\n",
       "    </tr>\n",
       "    <tr>\n",
       "      <th>1</th>\n",
       "      <td>31</td>\n",
       "      <td>1.232825</td>\n",
       "      <td>-0.066079</td>\n",
       "      <td>1.221349</td>\n",
       "      <td>-0.154265</td>\n",
       "      <td>0.333668</td>\n",
       "    </tr>\n",
       "    <tr>\n",
       "      <th>2</th>\n",
       "      <td>46</td>\n",
       "      <td>1.271040</td>\n",
       "      <td>-0.081063</td>\n",
       "      <td>1.259424</td>\n",
       "      <td>-0.151072</td>\n",
       "      <td>0.342430</td>\n",
       "    </tr>\n",
       "    <tr>\n",
       "      <th>3</th>\n",
       "      <td>124</td>\n",
       "      <td>1.277563</td>\n",
       "      <td>-0.037338</td>\n",
       "      <td>1.229701</td>\n",
       "      <td>-0.344395</td>\n",
       "      <td>0.282656</td>\n",
       "    </tr>\n",
       "    <tr>\n",
       "      <th>4</th>\n",
       "      <td>140</td>\n",
       "      <td>1.198773</td>\n",
       "      <td>-0.003930</td>\n",
       "      <td>1.138812</td>\n",
       "      <td>-0.374364</td>\n",
       "      <td>0.253506</td>\n",
       "    </tr>\n",
       "  </tbody>\n",
       "</table>\n",
       "</div>"
      ],
      "text/plain": [
       "   ms_since_beginning  sv_total        Ax        Az        Ay     Avg_A\n",
       "0                   0  1.160735 -0.048638  1.149866 -0.150826  0.316801\n",
       "1                  31  1.232825 -0.066079  1.221349 -0.154265  0.333668\n",
       "2                  46  1.271040 -0.081063  1.259424 -0.151072  0.342430\n",
       "3                 124  1.277563 -0.037338  1.229701 -0.344395  0.282656\n",
       "4                 140  1.198773 -0.003930  1.138812 -0.374364  0.253506"
      ]
     },
     "execution_count": 299,
     "metadata": {},
     "output_type": "execute_result"
    }
   ],
   "source": [
    "df_train_adl.head()"
   ]
  },
  {
   "cell_type": "code",
   "execution_count": 300,
   "id": "b2020125",
   "metadata": {},
   "outputs": [],
   "source": [
    "calc_avg(df_test_adl)\n",
    "calc_avg(df_train_fall)\n",
    "calc_avg(df_test_fall)"
   ]
  },
  {
   "cell_type": "code",
   "execution_count": 301,
   "id": "685d1186",
   "metadata": {},
   "outputs": [
    {
     "data": {
      "text/html": [
       "<div>\n",
       "<style scoped>\n",
       "    .dataframe tbody tr th:only-of-type {\n",
       "        vertical-align: middle;\n",
       "    }\n",
       "\n",
       "    .dataframe tbody tr th {\n",
       "        vertical-align: top;\n",
       "    }\n",
       "\n",
       "    .dataframe thead th {\n",
       "        text-align: right;\n",
       "    }\n",
       "</style>\n",
       "<table border=\"1\" class=\"dataframe\">\n",
       "  <thead>\n",
       "    <tr style=\"text-align: right;\">\n",
       "      <th></th>\n",
       "      <th>ms_since_beginning</th>\n",
       "      <th>sv_total</th>\n",
       "      <th>Ax</th>\n",
       "      <th>Az</th>\n",
       "      <th>Ay</th>\n",
       "      <th>Avg_A</th>\n",
       "    </tr>\n",
       "  </thead>\n",
       "  <tbody>\n",
       "    <tr>\n",
       "      <th>0</th>\n",
       "      <td>5.0</td>\n",
       "      <td>0.751736</td>\n",
       "      <td>0.372491</td>\n",
       "      <td>0.414850</td>\n",
       "      <td>0.507681</td>\n",
       "      <td>0.431674</td>\n",
       "    </tr>\n",
       "    <tr>\n",
       "      <th>1</th>\n",
       "      <td>7.0</td>\n",
       "      <td>0.996120</td>\n",
       "      <td>0.437090</td>\n",
       "      <td>0.511907</td>\n",
       "      <td>0.733442</td>\n",
       "      <td>0.560813</td>\n",
       "    </tr>\n",
       "    <tr>\n",
       "      <th>2</th>\n",
       "      <td>34.0</td>\n",
       "      <td>0.012028</td>\n",
       "      <td>0.124501</td>\n",
       "      <td>-0.040441</td>\n",
       "      <td>-0.025620</td>\n",
       "      <td>0.019480</td>\n",
       "    </tr>\n",
       "    <tr>\n",
       "      <th>3</th>\n",
       "      <td>50.0</td>\n",
       "      <td>0.066580</td>\n",
       "      <td>0.150223</td>\n",
       "      <td>-0.009027</td>\n",
       "      <td>0.009574</td>\n",
       "      <td>0.050257</td>\n",
       "    </tr>\n",
       "    <tr>\n",
       "      <th>4</th>\n",
       "      <td>59.0</td>\n",
       "      <td>0.495999</td>\n",
       "      <td>0.262981</td>\n",
       "      <td>0.240503</td>\n",
       "      <td>0.349778</td>\n",
       "      <td>0.284421</td>\n",
       "    </tr>\n",
       "  </tbody>\n",
       "</table>\n",
       "</div>"
      ],
      "text/plain": [
       "   ms_since_beginning  sv_total        Ax        Az        Ay     Avg_A\n",
       "0                 5.0  0.751736  0.372491  0.414850  0.507681  0.431674\n",
       "1                 7.0  0.996120  0.437090  0.511907  0.733442  0.560813\n",
       "2                34.0  0.012028  0.124501 -0.040441 -0.025620  0.019480\n",
       "3                50.0  0.066580  0.150223 -0.009027  0.009574  0.050257\n",
       "4                59.0  0.495999  0.262981  0.240503  0.349778  0.284421"
      ]
     },
     "execution_count": 301,
     "metadata": {},
     "output_type": "execute_result"
    }
   ],
   "source": [
    "df_test_adl.head()"
   ]
  },
  {
   "cell_type": "code",
   "execution_count": 302,
   "id": "34b2f592",
   "metadata": {},
   "outputs": [
    {
     "data": {
      "text/html": [
       "<div>\n",
       "<style scoped>\n",
       "    .dataframe tbody tr th:only-of-type {\n",
       "        vertical-align: middle;\n",
       "    }\n",
       "\n",
       "    .dataframe tbody tr th {\n",
       "        vertical-align: top;\n",
       "    }\n",
       "\n",
       "    .dataframe thead th {\n",
       "        text-align: right;\n",
       "    }\n",
       "</style>\n",
       "<table border=\"1\" class=\"dataframe\">\n",
       "  <thead>\n",
       "    <tr style=\"text-align: right;\">\n",
       "      <th></th>\n",
       "      <th>ms_since_beginning</th>\n",
       "      <th>sv_total</th>\n",
       "      <th>Ax</th>\n",
       "      <th>Az</th>\n",
       "      <th>Ay</th>\n",
       "      <th>Avg_A</th>\n",
       "    </tr>\n",
       "  </thead>\n",
       "  <tbody>\n",
       "    <tr>\n",
       "      <th>0</th>\n",
       "      <td>30</td>\n",
       "      <td>1.003218</td>\n",
       "      <td>0.166793</td>\n",
       "      <td>0.974967</td>\n",
       "      <td>0.167530</td>\n",
       "      <td>0.436430</td>\n",
       "    </tr>\n",
       "    <tr>\n",
       "      <th>1</th>\n",
       "      <td>61</td>\n",
       "      <td>1.022040</td>\n",
       "      <td>0.175391</td>\n",
       "      <td>0.991916</td>\n",
       "      <td>0.172934</td>\n",
       "      <td>0.446747</td>\n",
       "    </tr>\n",
       "    <tr>\n",
       "      <th>2</th>\n",
       "      <td>65</td>\n",
       "      <td>1.028459</td>\n",
       "      <td>0.152300</td>\n",
       "      <td>1.002479</td>\n",
       "      <td>0.171952</td>\n",
       "      <td>0.442244</td>\n",
       "    </tr>\n",
       "    <tr>\n",
       "      <th>3</th>\n",
       "      <td>94</td>\n",
       "      <td>1.006250</td>\n",
       "      <td>0.139035</td>\n",
       "      <td>0.979880</td>\n",
       "      <td>0.181778</td>\n",
       "      <td>0.433564</td>\n",
       "    </tr>\n",
       "    <tr>\n",
       "      <th>4</th>\n",
       "      <td>97</td>\n",
       "      <td>0.985908</td>\n",
       "      <td>0.132157</td>\n",
       "      <td>0.956789</td>\n",
       "      <td>0.197745</td>\n",
       "      <td>0.428897</td>\n",
       "    </tr>\n",
       "  </tbody>\n",
       "</table>\n",
       "</div>"
      ],
      "text/plain": [
       "   ms_since_beginning  sv_total        Ax        Az        Ay     Avg_A\n",
       "0                  30  1.003218  0.166793  0.974967  0.167530  0.436430\n",
       "1                  61  1.022040  0.175391  0.991916  0.172934  0.446747\n",
       "2                  65  1.028459  0.152300  1.002479  0.171952  0.442244\n",
       "3                  94  1.006250  0.139035  0.979880  0.181778  0.433564\n",
       "4                  97  0.985908  0.132157  0.956789  0.197745  0.428897"
      ]
     },
     "execution_count": 302,
     "metadata": {},
     "output_type": "execute_result"
    }
   ],
   "source": [
    "df_train_fall.head()"
   ]
  },
  {
   "cell_type": "code",
   "execution_count": 303,
   "id": "8c6cfb4f",
   "metadata": {},
   "outputs": [
    {
     "data": {
      "text/html": [
       "<div>\n",
       "<style scoped>\n",
       "    .dataframe tbody tr th:only-of-type {\n",
       "        vertical-align: middle;\n",
       "    }\n",
       "\n",
       "    .dataframe tbody tr th {\n",
       "        vertical-align: top;\n",
       "    }\n",
       "\n",
       "    .dataframe thead th {\n",
       "        text-align: right;\n",
       "    }\n",
       "</style>\n",
       "<table border=\"1\" class=\"dataframe\">\n",
       "  <thead>\n",
       "    <tr style=\"text-align: right;\">\n",
       "      <th></th>\n",
       "      <th>ms_since_beginning</th>\n",
       "      <th>sv_total</th>\n",
       "      <th>Ax</th>\n",
       "      <th>Az</th>\n",
       "      <th>Ay</th>\n",
       "      <th>Avg_A</th>\n",
       "    </tr>\n",
       "  </thead>\n",
       "  <tbody>\n",
       "    <tr>\n",
       "      <th>0</th>\n",
       "      <td>5.0</td>\n",
       "      <td>1.366855</td>\n",
       "      <td>-0.684301</td>\n",
       "      <td>0.785951</td>\n",
       "      <td>0.040738</td>\n",
       "      <td>0.047463</td>\n",
       "    </tr>\n",
       "    <tr>\n",
       "      <th>1</th>\n",
       "      <td>21.0</td>\n",
       "      <td>0.977008</td>\n",
       "      <td>-0.923348</td>\n",
       "      <td>0.550218</td>\n",
       "      <td>-0.114537</td>\n",
       "      <td>-0.162556</td>\n",
       "    </tr>\n",
       "    <tr>\n",
       "      <th>2</th>\n",
       "      <td>38.0</td>\n",
       "      <td>1.438821</td>\n",
       "      <td>-0.608400</td>\n",
       "      <td>0.838917</td>\n",
       "      <td>0.126488</td>\n",
       "      <td>0.119002</td>\n",
       "    </tr>\n",
       "    <tr>\n",
       "      <th>3</th>\n",
       "      <td>54.0</td>\n",
       "      <td>1.984782</td>\n",
       "      <td>-0.269010</td>\n",
       "      <td>1.197440</td>\n",
       "      <td>0.379095</td>\n",
       "      <td>0.435842</td>\n",
       "    </tr>\n",
       "    <tr>\n",
       "      <th>4</th>\n",
       "      <td>76.0</td>\n",
       "      <td>0.917805</td>\n",
       "      <td>-0.959406</td>\n",
       "      <td>0.518595</td>\n",
       "      <td>-0.073812</td>\n",
       "      <td>-0.171541</td>\n",
       "    </tr>\n",
       "  </tbody>\n",
       "</table>\n",
       "</div>"
      ],
      "text/plain": [
       "   ms_since_beginning  sv_total        Ax        Az        Ay     Avg_A\n",
       "0                 5.0  1.366855 -0.684301  0.785951  0.040738  0.047463\n",
       "1                21.0  0.977008 -0.923348  0.550218 -0.114537 -0.162556\n",
       "2                38.0  1.438821 -0.608400  0.838917  0.126488  0.119002\n",
       "3                54.0  1.984782 -0.269010  1.197440  0.379095  0.435842\n",
       "4                76.0  0.917805 -0.959406  0.518595 -0.073812 -0.171541"
      ]
     },
     "execution_count": 303,
     "metadata": {},
     "output_type": "execute_result"
    }
   ],
   "source": [
    "df_test_fall.head()"
   ]
  },
  {
   "cell_type": "markdown",
   "id": "8335ceeb",
   "metadata": {},
   "source": [
    "#### Desvio padrão (Standard Deviation)"
   ]
  },
  {
   "cell_type": "code",
   "execution_count": 304,
   "id": "d9e81c2a",
   "metadata": {},
   "outputs": [],
   "source": [
    "def calc_std(df):\n",
    "    for i in range(len(df)):\n",
    "        df.loc[i,'Std_A'] = np.std([df.loc[i,'Ax'],df.loc[i,'Az'],df.loc[i,'Ay']])"
   ]
  },
  {
   "cell_type": "code",
   "execution_count": 305,
   "id": "54bdc02e",
   "metadata": {},
   "outputs": [],
   "source": [
    "calc_std(df_train_adl)\n",
    "calc_std(df_test_adl)\n",
    "calc_std(df_train_fall)\n",
    "calc_std(df_test_fall)"
   ]
  },
  {
   "cell_type": "markdown",
   "id": "2f76b880",
   "metadata": {},
   "source": [
    "#### Valor máximo (Maximum value)"
   ]
  },
  {
   "cell_type": "code",
   "execution_count": 306,
   "id": "bc48075e",
   "metadata": {},
   "outputs": [],
   "source": [
    "def calc_max(df):\n",
    "    for i in range(len(df)):\n",
    "        df.loc[i,'Max_A'] = np.max([df.loc[i,'Ax'],df.loc[i,'Az'],df.loc[i,'Ay']])"
   ]
  },
  {
   "cell_type": "code",
   "execution_count": 307,
   "id": "abecb8eb",
   "metadata": {},
   "outputs": [],
   "source": [
    "calc_max(df_train_adl)\n",
    "calc_max(df_test_adl)\n",
    "calc_max(df_train_fall)\n",
    "calc_max(df_test_fall)"
   ]
  },
  {
   "cell_type": "markdown",
   "id": "1ef3d9b8",
   "metadata": {},
   "source": [
    "#### Valor eficaz (rms)"
   ]
  },
  {
   "cell_type": "code",
   "execution_count": 308,
   "id": "6b7430e5",
   "metadata": {},
   "outputs": [],
   "source": [
    "def calc_rms(df):\n",
    "    for i in range(len(df)):\n",
    "        y = np.array([df.loc[i,'Ax'],df.loc[i,'Az'],df.loc[i,'Ay']])\n",
    "        df.loc[i,'RMS_A'] = np.sqrt(np.mean(y**2))"
   ]
  },
  {
   "cell_type": "code",
   "execution_count": 309,
   "id": "e0edc036",
   "metadata": {},
   "outputs": [],
   "source": [
    "calc_rms(df_train_adl)\n",
    "calc_rms(df_test_adl)\n",
    "calc_rms(df_train_fall)\n",
    "calc_rms(df_test_fall)"
   ]
  },
  {
   "cell_type": "code",
   "execution_count": 310,
   "id": "ec8e2ee1",
   "metadata": {},
   "outputs": [
    {
     "data": {
      "text/html": [
       "<div>\n",
       "<style scoped>\n",
       "    .dataframe tbody tr th:only-of-type {\n",
       "        vertical-align: middle;\n",
       "    }\n",
       "\n",
       "    .dataframe tbody tr th {\n",
       "        vertical-align: top;\n",
       "    }\n",
       "\n",
       "    .dataframe thead th {\n",
       "        text-align: right;\n",
       "    }\n",
       "</style>\n",
       "<table border=\"1\" class=\"dataframe\">\n",
       "  <thead>\n",
       "    <tr style=\"text-align: right;\">\n",
       "      <th></th>\n",
       "      <th>ms_since_beginning</th>\n",
       "      <th>sv_total</th>\n",
       "      <th>Ax</th>\n",
       "      <th>Az</th>\n",
       "      <th>Ay</th>\n",
       "      <th>Avg_A</th>\n",
       "      <th>Std_A</th>\n",
       "      <th>Max_A</th>\n",
       "      <th>RMS_A</th>\n",
       "    </tr>\n",
       "  </thead>\n",
       "  <tbody>\n",
       "    <tr>\n",
       "      <th>0</th>\n",
       "      <td>0</td>\n",
       "      <td>1.160735</td>\n",
       "      <td>-0.048638</td>\n",
       "      <td>1.149866</td>\n",
       "      <td>-0.150826</td>\n",
       "      <td>0.316801</td>\n",
       "      <td>0.590542</td>\n",
       "      <td>1.149866</td>\n",
       "      <td>0.670151</td>\n",
       "    </tr>\n",
       "    <tr>\n",
       "      <th>1</th>\n",
       "      <td>31</td>\n",
       "      <td>1.232825</td>\n",
       "      <td>-0.066079</td>\n",
       "      <td>1.221349</td>\n",
       "      <td>-0.154265</td>\n",
       "      <td>0.333668</td>\n",
       "      <td>0.628717</td>\n",
       "      <td>1.221349</td>\n",
       "      <td>0.711772</td>\n",
       "    </tr>\n",
       "    <tr>\n",
       "      <th>2</th>\n",
       "      <td>46</td>\n",
       "      <td>1.271040</td>\n",
       "      <td>-0.081063</td>\n",
       "      <td>1.259424</td>\n",
       "      <td>-0.151072</td>\n",
       "      <td>0.342430</td>\n",
       "      <td>0.649043</td>\n",
       "      <td>1.259424</td>\n",
       "      <td>0.733835</td>\n",
       "    </tr>\n",
       "    <tr>\n",
       "      <th>3</th>\n",
       "      <td>124</td>\n",
       "      <td>1.277563</td>\n",
       "      <td>-0.037338</td>\n",
       "      <td>1.229701</td>\n",
       "      <td>-0.344395</td>\n",
       "      <td>0.282656</td>\n",
       "      <td>0.681294</td>\n",
       "      <td>1.229701</td>\n",
       "      <td>0.737601</td>\n",
       "    </tr>\n",
       "    <tr>\n",
       "      <th>4</th>\n",
       "      <td>140</td>\n",
       "      <td>1.198773</td>\n",
       "      <td>-0.003930</td>\n",
       "      <td>1.138812</td>\n",
       "      <td>-0.374364</td>\n",
       "      <td>0.253506</td>\n",
       "      <td>0.644014</td>\n",
       "      <td>1.138812</td>\n",
       "      <td>0.692112</td>\n",
       "    </tr>\n",
       "  </tbody>\n",
       "</table>\n",
       "</div>"
      ],
      "text/plain": [
       "   ms_since_beginning  sv_total        Ax        Az        Ay     Avg_A  \\\n",
       "0                   0  1.160735 -0.048638  1.149866 -0.150826  0.316801   \n",
       "1                  31  1.232825 -0.066079  1.221349 -0.154265  0.333668   \n",
       "2                  46  1.271040 -0.081063  1.259424 -0.151072  0.342430   \n",
       "3                 124  1.277563 -0.037338  1.229701 -0.344395  0.282656   \n",
       "4                 140  1.198773 -0.003930  1.138812 -0.374364  0.253506   \n",
       "\n",
       "      Std_A     Max_A     RMS_A  \n",
       "0  0.590542  1.149866  0.670151  \n",
       "1  0.628717  1.221349  0.711772  \n",
       "2  0.649043  1.259424  0.733835  \n",
       "3  0.681294  1.229701  0.737601  \n",
       "4  0.644014  1.138812  0.692112  "
      ]
     },
     "execution_count": 310,
     "metadata": {},
     "output_type": "execute_result"
    }
   ],
   "source": [
    "df_train_adl.head()"
   ]
  },
  {
   "cell_type": "markdown",
   "id": "bbe588e4",
   "metadata": {},
   "source": [
    "### 6) Para rodar os algoritmos de ML, antes precisamos associar labels a cada categoria e então juntar os datasets de treino ADL/Fall e teste ADL/Fall"
   ]
  },
  {
   "cell_type": "code",
   "execution_count": 311,
   "id": "6fc220b3",
   "metadata": {},
   "outputs": [
    {
     "data": {
      "text/html": [
       "<div>\n",
       "<style scoped>\n",
       "    .dataframe tbody tr th:only-of-type {\n",
       "        vertical-align: middle;\n",
       "    }\n",
       "\n",
       "    .dataframe tbody tr th {\n",
       "        vertical-align: top;\n",
       "    }\n",
       "\n",
       "    .dataframe thead th {\n",
       "        text-align: right;\n",
       "    }\n",
       "</style>\n",
       "<table border=\"1\" class=\"dataframe\">\n",
       "  <thead>\n",
       "    <tr style=\"text-align: right;\">\n",
       "      <th></th>\n",
       "      <th>ms_since_beginning</th>\n",
       "      <th>sv_total</th>\n",
       "      <th>Ax</th>\n",
       "      <th>Az</th>\n",
       "      <th>Ay</th>\n",
       "      <th>Avg_A</th>\n",
       "      <th>Std_A</th>\n",
       "      <th>Max_A</th>\n",
       "      <th>RMS_A</th>\n",
       "    </tr>\n",
       "  </thead>\n",
       "  <tbody>\n",
       "    <tr>\n",
       "      <th>0</th>\n",
       "      <td>30</td>\n",
       "      <td>1.003218</td>\n",
       "      <td>0.166793</td>\n",
       "      <td>0.974967</td>\n",
       "      <td>0.167530</td>\n",
       "      <td>0.436430</td>\n",
       "      <td>0.380803</td>\n",
       "      <td>0.974967</td>\n",
       "      <td>0.579208</td>\n",
       "    </tr>\n",
       "    <tr>\n",
       "      <th>1</th>\n",
       "      <td>61</td>\n",
       "      <td>1.022040</td>\n",
       "      <td>0.175391</td>\n",
       "      <td>0.991916</td>\n",
       "      <td>0.172934</td>\n",
       "      <td>0.446747</td>\n",
       "      <td>0.385494</td>\n",
       "      <td>0.991916</td>\n",
       "      <td>0.590075</td>\n",
       "    </tr>\n",
       "    <tr>\n",
       "      <th>2</th>\n",
       "      <td>65</td>\n",
       "      <td>1.028459</td>\n",
       "      <td>0.152300</td>\n",
       "      <td>1.002479</td>\n",
       "      <td>0.171952</td>\n",
       "      <td>0.442244</td>\n",
       "      <td>0.396227</td>\n",
       "      <td>1.002479</td>\n",
       "      <td>0.593781</td>\n",
       "    </tr>\n",
       "    <tr>\n",
       "      <th>3</th>\n",
       "      <td>94</td>\n",
       "      <td>1.006250</td>\n",
       "      <td>0.139035</td>\n",
       "      <td>0.979880</td>\n",
       "      <td>0.181778</td>\n",
       "      <td>0.433564</td>\n",
       "      <td>0.386697</td>\n",
       "      <td>0.979880</td>\n",
       "      <td>0.580958</td>\n",
       "    </tr>\n",
       "    <tr>\n",
       "      <th>4</th>\n",
       "      <td>97</td>\n",
       "      <td>0.985908</td>\n",
       "      <td>0.132157</td>\n",
       "      <td>0.956789</td>\n",
       "      <td>0.197745</td>\n",
       "      <td>0.428897</td>\n",
       "      <td>0.374235</td>\n",
       "      <td>0.956789</td>\n",
       "      <td>0.569214</td>\n",
       "    </tr>\n",
       "  </tbody>\n",
       "</table>\n",
       "</div>"
      ],
      "text/plain": [
       "   ms_since_beginning  sv_total        Ax        Az        Ay     Avg_A  \\\n",
       "0                  30  1.003218  0.166793  0.974967  0.167530  0.436430   \n",
       "1                  61  1.022040  0.175391  0.991916  0.172934  0.446747   \n",
       "2                  65  1.028459  0.152300  1.002479  0.171952  0.442244   \n",
       "3                  94  1.006250  0.139035  0.979880  0.181778  0.433564   \n",
       "4                  97  0.985908  0.132157  0.956789  0.197745  0.428897   \n",
       "\n",
       "      Std_A     Max_A     RMS_A  \n",
       "0  0.380803  0.974967  0.579208  \n",
       "1  0.385494  0.991916  0.590075  \n",
       "2  0.396227  1.002479  0.593781  \n",
       "3  0.386697  0.979880  0.580958  \n",
       "4  0.374235  0.956789  0.569214  "
      ]
     },
     "execution_count": 311,
     "metadata": {},
     "output_type": "execute_result"
    }
   ],
   "source": [
    "df_train_fall.head()"
   ]
  },
  {
   "cell_type": "markdown",
   "id": "d7a22853",
   "metadata": {},
   "source": [
    "#### Classe 0 = ADL; Classe 1 = Fall"
   ]
  },
  {
   "cell_type": "code",
   "execution_count": 312,
   "id": "0e9cce5b",
   "metadata": {},
   "outputs": [],
   "source": [
    "df_train_adl['Class'] = '0'\n",
    "df_test_adl['Class'] = '0'\n",
    "df_train_fall['Class'] = '1'\n",
    "df_test_fall['Class'] = '1'"
   ]
  },
  {
   "cell_type": "code",
   "execution_count": 313,
   "id": "0d305073",
   "metadata": {},
   "outputs": [
    {
     "data": {
      "text/html": [
       "<div>\n",
       "<style scoped>\n",
       "    .dataframe tbody tr th:only-of-type {\n",
       "        vertical-align: middle;\n",
       "    }\n",
       "\n",
       "    .dataframe tbody tr th {\n",
       "        vertical-align: top;\n",
       "    }\n",
       "\n",
       "    .dataframe thead th {\n",
       "        text-align: right;\n",
       "    }\n",
       "</style>\n",
       "<table border=\"1\" class=\"dataframe\">\n",
       "  <thead>\n",
       "    <tr style=\"text-align: right;\">\n",
       "      <th></th>\n",
       "      <th>ms_since_beginning</th>\n",
       "      <th>sv_total</th>\n",
       "      <th>Ax</th>\n",
       "      <th>Az</th>\n",
       "      <th>Ay</th>\n",
       "      <th>Avg_A</th>\n",
       "      <th>Std_A</th>\n",
       "      <th>Max_A</th>\n",
       "      <th>RMS_A</th>\n",
       "      <th>Class</th>\n",
       "    </tr>\n",
       "  </thead>\n",
       "  <tbody>\n",
       "    <tr>\n",
       "      <th>0</th>\n",
       "      <td>0</td>\n",
       "      <td>1.160735</td>\n",
       "      <td>-0.048638</td>\n",
       "      <td>1.149866</td>\n",
       "      <td>-0.150826</td>\n",
       "      <td>0.316801</td>\n",
       "      <td>0.590542</td>\n",
       "      <td>1.149866</td>\n",
       "      <td>0.670151</td>\n",
       "      <td>0</td>\n",
       "    </tr>\n",
       "    <tr>\n",
       "      <th>1</th>\n",
       "      <td>31</td>\n",
       "      <td>1.232825</td>\n",
       "      <td>-0.066079</td>\n",
       "      <td>1.221349</td>\n",
       "      <td>-0.154265</td>\n",
       "      <td>0.333668</td>\n",
       "      <td>0.628717</td>\n",
       "      <td>1.221349</td>\n",
       "      <td>0.711772</td>\n",
       "      <td>0</td>\n",
       "    </tr>\n",
       "    <tr>\n",
       "      <th>2</th>\n",
       "      <td>46</td>\n",
       "      <td>1.271040</td>\n",
       "      <td>-0.081063</td>\n",
       "      <td>1.259424</td>\n",
       "      <td>-0.151072</td>\n",
       "      <td>0.342430</td>\n",
       "      <td>0.649043</td>\n",
       "      <td>1.259424</td>\n",
       "      <td>0.733835</td>\n",
       "      <td>0</td>\n",
       "    </tr>\n",
       "    <tr>\n",
       "      <th>3</th>\n",
       "      <td>124</td>\n",
       "      <td>1.277563</td>\n",
       "      <td>-0.037338</td>\n",
       "      <td>1.229701</td>\n",
       "      <td>-0.344395</td>\n",
       "      <td>0.282656</td>\n",
       "      <td>0.681294</td>\n",
       "      <td>1.229701</td>\n",
       "      <td>0.737601</td>\n",
       "      <td>0</td>\n",
       "    </tr>\n",
       "    <tr>\n",
       "      <th>4</th>\n",
       "      <td>140</td>\n",
       "      <td>1.198773</td>\n",
       "      <td>-0.003930</td>\n",
       "      <td>1.138812</td>\n",
       "      <td>-0.374364</td>\n",
       "      <td>0.253506</td>\n",
       "      <td>0.644014</td>\n",
       "      <td>1.138812</td>\n",
       "      <td>0.692112</td>\n",
       "      <td>0</td>\n",
       "    </tr>\n",
       "  </tbody>\n",
       "</table>\n",
       "</div>"
      ],
      "text/plain": [
       "   ms_since_beginning  sv_total        Ax        Az        Ay     Avg_A  \\\n",
       "0                   0  1.160735 -0.048638  1.149866 -0.150826  0.316801   \n",
       "1                  31  1.232825 -0.066079  1.221349 -0.154265  0.333668   \n",
       "2                  46  1.271040 -0.081063  1.259424 -0.151072  0.342430   \n",
       "3                 124  1.277563 -0.037338  1.229701 -0.344395  0.282656   \n",
       "4                 140  1.198773 -0.003930  1.138812 -0.374364  0.253506   \n",
       "\n",
       "      Std_A     Max_A     RMS_A Class  \n",
       "0  0.590542  1.149866  0.670151     0  \n",
       "1  0.628717  1.221349  0.711772     0  \n",
       "2  0.649043  1.259424  0.733835     0  \n",
       "3  0.681294  1.229701  0.737601     0  \n",
       "4  0.644014  1.138812  0.692112     0  "
      ]
     },
     "execution_count": 313,
     "metadata": {},
     "output_type": "execute_result"
    }
   ],
   "source": [
    "df_train_adl.head()"
   ]
  },
  {
   "cell_type": "code",
   "execution_count": 314,
   "id": "1ceac0c6",
   "metadata": {},
   "outputs": [],
   "source": [
    "frames = [df_train_adl,df_train_fall]\n",
    "  \n",
    "df_train = pd.concat(frames)"
   ]
  },
  {
   "cell_type": "code",
   "execution_count": 315,
   "id": "00379ae6",
   "metadata": {},
   "outputs": [],
   "source": [
    "pd.set_option('display.max_rows', 999)"
   ]
  },
  {
   "cell_type": "code",
   "execution_count": 316,
   "id": "2d1b71f0",
   "metadata": {},
   "outputs": [],
   "source": [
    "frames = [df_test_adl,df_test_fall]\n",
    "  \n",
    "df_test = pd.concat(frames)"
   ]
  },
  {
   "cell_type": "code",
   "execution_count": 317,
   "id": "993b5f58",
   "metadata": {},
   "outputs": [
    {
     "data": {
      "text/html": [
       "<div>\n",
       "<style scoped>\n",
       "    .dataframe tbody tr th:only-of-type {\n",
       "        vertical-align: middle;\n",
       "    }\n",
       "\n",
       "    .dataframe tbody tr th {\n",
       "        vertical-align: top;\n",
       "    }\n",
       "\n",
       "    .dataframe thead th {\n",
       "        text-align: right;\n",
       "    }\n",
       "</style>\n",
       "<table border=\"1\" class=\"dataframe\">\n",
       "  <thead>\n",
       "    <tr style=\"text-align: right;\">\n",
       "      <th></th>\n",
       "      <th>ms_since_beginning</th>\n",
       "      <th>sv_total</th>\n",
       "      <th>Ax</th>\n",
       "      <th>Az</th>\n",
       "      <th>Ay</th>\n",
       "      <th>Avg_A</th>\n",
       "      <th>Std_A</th>\n",
       "      <th>Max_A</th>\n",
       "      <th>RMS_A</th>\n",
       "      <th>Class</th>\n",
       "    </tr>\n",
       "  </thead>\n",
       "  <tbody>\n",
       "    <tr>\n",
       "      <th>0</th>\n",
       "      <td>5.0</td>\n",
       "      <td>0.751736</td>\n",
       "      <td>0.372491</td>\n",
       "      <td>0.414850</td>\n",
       "      <td>0.507681</td>\n",
       "      <td>0.431674</td>\n",
       "      <td>0.056459</td>\n",
       "      <td>0.507681</td>\n",
       "      <td>0.435350</td>\n",
       "      <td>0</td>\n",
       "    </tr>\n",
       "    <tr>\n",
       "      <th>1</th>\n",
       "      <td>7.0</td>\n",
       "      <td>0.996120</td>\n",
       "      <td>0.437090</td>\n",
       "      <td>0.511907</td>\n",
       "      <td>0.733442</td>\n",
       "      <td>0.560813</td>\n",
       "      <td>0.125831</td>\n",
       "      <td>0.733442</td>\n",
       "      <td>0.574756</td>\n",
       "      <td>0</td>\n",
       "    </tr>\n",
       "    <tr>\n",
       "      <th>2</th>\n",
       "      <td>34.0</td>\n",
       "      <td>0.012028</td>\n",
       "      <td>0.124501</td>\n",
       "      <td>-0.040441</td>\n",
       "      <td>-0.025620</td>\n",
       "      <td>0.019480</td>\n",
       "      <td>0.074507</td>\n",
       "      <td>0.124501</td>\n",
       "      <td>0.077012</td>\n",
       "      <td>0</td>\n",
       "    </tr>\n",
       "    <tr>\n",
       "      <th>3</th>\n",
       "      <td>50.0</td>\n",
       "      <td>0.066580</td>\n",
       "      <td>0.150223</td>\n",
       "      <td>-0.009027</td>\n",
       "      <td>0.009574</td>\n",
       "      <td>0.050257</td>\n",
       "      <td>0.071093</td>\n",
       "      <td>0.150223</td>\n",
       "      <td>0.087063</td>\n",
       "      <td>0</td>\n",
       "    </tr>\n",
       "    <tr>\n",
       "      <th>4</th>\n",
       "      <td>59.0</td>\n",
       "      <td>0.495999</td>\n",
       "      <td>0.262981</td>\n",
       "      <td>0.240503</td>\n",
       "      <td>0.349778</td>\n",
       "      <td>0.284421</td>\n",
       "      <td>0.047117</td>\n",
       "      <td>0.349778</td>\n",
       "      <td>0.288297</td>\n",
       "      <td>0</td>\n",
       "    </tr>\n",
       "  </tbody>\n",
       "</table>\n",
       "</div>"
      ],
      "text/plain": [
       "   ms_since_beginning  sv_total        Ax        Az        Ay     Avg_A  \\\n",
       "0                 5.0  0.751736  0.372491  0.414850  0.507681  0.431674   \n",
       "1                 7.0  0.996120  0.437090  0.511907  0.733442  0.560813   \n",
       "2                34.0  0.012028  0.124501 -0.040441 -0.025620  0.019480   \n",
       "3                50.0  0.066580  0.150223 -0.009027  0.009574  0.050257   \n",
       "4                59.0  0.495999  0.262981  0.240503  0.349778  0.284421   \n",
       "\n",
       "      Std_A     Max_A     RMS_A Class  \n",
       "0  0.056459  0.507681  0.435350     0  \n",
       "1  0.125831  0.733442  0.574756     0  \n",
       "2  0.074507  0.124501  0.077012     0  \n",
       "3  0.071093  0.150223  0.087063     0  \n",
       "4  0.047117  0.349778  0.288297     0  "
      ]
     },
     "execution_count": 317,
     "metadata": {},
     "output_type": "execute_result"
    }
   ],
   "source": [
    "df_test.head()"
   ]
  },
  {
   "cell_type": "code",
   "execution_count": 318,
   "id": "6b570f14",
   "metadata": {},
   "outputs": [],
   "source": [
    "df_train.drop(['ms_since_beginning','sv_total','Ax','Az','Ay'],inplace=True, axis=1)\n",
    "df_test.drop(['ms_since_beginning','sv_total','Ax','Az','Ay'],inplace=True, axis=1)"
   ]
  },
  {
   "cell_type": "code",
   "execution_count": 319,
   "id": "399626b2",
   "metadata": {},
   "outputs": [
    {
     "data": {
      "text/html": [
       "<div>\n",
       "<style scoped>\n",
       "    .dataframe tbody tr th:only-of-type {\n",
       "        vertical-align: middle;\n",
       "    }\n",
       "\n",
       "    .dataframe tbody tr th {\n",
       "        vertical-align: top;\n",
       "    }\n",
       "\n",
       "    .dataframe thead th {\n",
       "        text-align: right;\n",
       "    }\n",
       "</style>\n",
       "<table border=\"1\" class=\"dataframe\">\n",
       "  <thead>\n",
       "    <tr style=\"text-align: right;\">\n",
       "      <th></th>\n",
       "      <th>Avg_A</th>\n",
       "      <th>Std_A</th>\n",
       "      <th>Max_A</th>\n",
       "      <th>RMS_A</th>\n",
       "      <th>Class</th>\n",
       "    </tr>\n",
       "  </thead>\n",
       "  <tbody>\n",
       "    <tr>\n",
       "      <th>0</th>\n",
       "      <td>0.316801</td>\n",
       "      <td>0.590542</td>\n",
       "      <td>1.149866</td>\n",
       "      <td>0.670151</td>\n",
       "      <td>0</td>\n",
       "    </tr>\n",
       "    <tr>\n",
       "      <th>1</th>\n",
       "      <td>0.333668</td>\n",
       "      <td>0.628717</td>\n",
       "      <td>1.221349</td>\n",
       "      <td>0.711772</td>\n",
       "      <td>0</td>\n",
       "    </tr>\n",
       "    <tr>\n",
       "      <th>2</th>\n",
       "      <td>0.342430</td>\n",
       "      <td>0.649043</td>\n",
       "      <td>1.259424</td>\n",
       "      <td>0.733835</td>\n",
       "      <td>0</td>\n",
       "    </tr>\n",
       "    <tr>\n",
       "      <th>3</th>\n",
       "      <td>0.282656</td>\n",
       "      <td>0.681294</td>\n",
       "      <td>1.229701</td>\n",
       "      <td>0.737601</td>\n",
       "      <td>0</td>\n",
       "    </tr>\n",
       "    <tr>\n",
       "      <th>4</th>\n",
       "      <td>0.253506</td>\n",
       "      <td>0.644014</td>\n",
       "      <td>1.138812</td>\n",
       "      <td>0.692112</td>\n",
       "      <td>0</td>\n",
       "    </tr>\n",
       "  </tbody>\n",
       "</table>\n",
       "</div>"
      ],
      "text/plain": [
       "      Avg_A     Std_A     Max_A     RMS_A Class\n",
       "0  0.316801  0.590542  1.149866  0.670151     0\n",
       "1  0.333668  0.628717  1.221349  0.711772     0\n",
       "2  0.342430  0.649043  1.259424  0.733835     0\n",
       "3  0.282656  0.681294  1.229701  0.737601     0\n",
       "4  0.253506  0.644014  1.138812  0.692112     0"
      ]
     },
     "execution_count": 319,
     "metadata": {},
     "output_type": "execute_result"
    }
   ],
   "source": [
    "df_train.head()"
   ]
  },
  {
   "cell_type": "code",
   "execution_count": 320,
   "id": "b4841673",
   "metadata": {},
   "outputs": [
    {
     "data": {
      "text/html": [
       "<div>\n",
       "<style scoped>\n",
       "    .dataframe tbody tr th:only-of-type {\n",
       "        vertical-align: middle;\n",
       "    }\n",
       "\n",
       "    .dataframe tbody tr th {\n",
       "        vertical-align: top;\n",
       "    }\n",
       "\n",
       "    .dataframe thead th {\n",
       "        text-align: right;\n",
       "    }\n",
       "</style>\n",
       "<table border=\"1\" class=\"dataframe\">\n",
       "  <thead>\n",
       "    <tr style=\"text-align: right;\">\n",
       "      <th></th>\n",
       "      <th>Avg_A</th>\n",
       "      <th>Std_A</th>\n",
       "      <th>Max_A</th>\n",
       "      <th>RMS_A</th>\n",
       "      <th>Class</th>\n",
       "    </tr>\n",
       "  </thead>\n",
       "  <tbody>\n",
       "    <tr>\n",
       "      <th>0</th>\n",
       "      <td>0.431674</td>\n",
       "      <td>0.056459</td>\n",
       "      <td>0.507681</td>\n",
       "      <td>0.435350</td>\n",
       "      <td>0</td>\n",
       "    </tr>\n",
       "    <tr>\n",
       "      <th>1</th>\n",
       "      <td>0.560813</td>\n",
       "      <td>0.125831</td>\n",
       "      <td>0.733442</td>\n",
       "      <td>0.574756</td>\n",
       "      <td>0</td>\n",
       "    </tr>\n",
       "    <tr>\n",
       "      <th>2</th>\n",
       "      <td>0.019480</td>\n",
       "      <td>0.074507</td>\n",
       "      <td>0.124501</td>\n",
       "      <td>0.077012</td>\n",
       "      <td>0</td>\n",
       "    </tr>\n",
       "    <tr>\n",
       "      <th>3</th>\n",
       "      <td>0.050257</td>\n",
       "      <td>0.071093</td>\n",
       "      <td>0.150223</td>\n",
       "      <td>0.087063</td>\n",
       "      <td>0</td>\n",
       "    </tr>\n",
       "    <tr>\n",
       "      <th>4</th>\n",
       "      <td>0.284421</td>\n",
       "      <td>0.047117</td>\n",
       "      <td>0.349778</td>\n",
       "      <td>0.288297</td>\n",
       "      <td>0</td>\n",
       "    </tr>\n",
       "  </tbody>\n",
       "</table>\n",
       "</div>"
      ],
      "text/plain": [
       "      Avg_A     Std_A     Max_A     RMS_A Class\n",
       "0  0.431674  0.056459  0.507681  0.435350     0\n",
       "1  0.560813  0.125831  0.733442  0.574756     0\n",
       "2  0.019480  0.074507  0.124501  0.077012     0\n",
       "3  0.050257  0.071093  0.150223  0.087063     0\n",
       "4  0.284421  0.047117  0.349778  0.288297     0"
      ]
     },
     "execution_count": 320,
     "metadata": {},
     "output_type": "execute_result"
    }
   ],
   "source": [
    "df_test.head()"
   ]
  },
  {
   "cell_type": "markdown",
   "id": "a3a57cbc",
   "metadata": {},
   "source": [
    "### 7) Agora que temos os datasets de treino e teste, podemos iniciar o processo de classificação"
   ]
  },
  {
   "cell_type": "markdown",
   "id": "6991a95a",
   "metadata": {},
   "source": [
    "### Primeiro iremos criar um pipeline para rodar em cima dos datasets"
   ]
  },
  {
   "cell_type": "code",
   "execution_count": null,
   "id": "99c27a9a",
   "metadata": {},
   "outputs": [],
   "source": []
  }
 ],
 "metadata": {
  "kernelspec": {
   "display_name": "Python 3 (ipykernel)",
   "language": "python",
   "name": "python3"
  },
  "language_info": {
   "codemirror_mode": {
    "name": "ipython",
    "version": 3
   },
   "file_extension": ".py",
   "mimetype": "text/x-python",
   "name": "python",
   "nbconvert_exporter": "python",
   "pygments_lexer": "ipython3",
   "version": "3.9.7"
  }
 },
 "nbformat": 4,
 "nbformat_minor": 5
}
